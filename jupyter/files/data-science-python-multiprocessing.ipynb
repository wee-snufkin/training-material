{
  "metadata": {
  },
  "nbformat": 4,
  "nbformat_minor": 5,
  "cells": [
    {
      "id": "metadata",
      "cell_type": "markdown",
      "source": "<div style=\"border: 2px solid #8A9AD0; margin: 1em 0.2em; padding: 0.5em;\">\n\n# Python - Multiprocessing\n\nby [Helena Rasche](https://training.galaxyproject.org/hall-of-fame/hexylena/)\n\nCC-BY licensed content from the [Galaxy Training Network](https://training.galaxyproject.org/)\n\n**Objectives**\n\n- How can I parallelize code to make it run faster\n- What code is, or is not, a prime target for parallelisation\n\n**Objectives**\n\n- Understanding how to paralellise code to make it run faster.\n- Identifying how to decompose code into a parallel unit.\n\n**Time Estimation: 30M**\n</div>\n",
      "metadata": {
        "editable": false,
        "collapsed": false
      }
    },
    {
      "id": "cell-0",
      "source": "<blockquote class=\"agenda\" style=\"border: 2px solid #86D486;display: none; margin: 1em 0.2em\">\n<div class=\"box-title agenda-title\" id=\"agenda\">Agenda</div>\n<p>In this tutorial, we will cover:</p>\n<ol id=\"markdown-toc\">\n<li><a href=\"#threads-vs-processes\" id=\"markdown-toc-threads-vs-processes\">Threads vs Processes</a></li>\n</ol>\n</blockquote>\n<h2 id=\"threads-vs-processes\">Threads vs Processes</h2>\n<p>For many languages, threads can be extremely efficient, as they are rather light weight and don’t require many resources to create new threads. “Threads are cheap”. However Python has a major limitation with the Global Interpreter Lock (GIL). Only one thread can be executing at once, whether it’s the main thread, or one of the others you’ve spawned. So we look to alternative concurrency mechanisms like processes for sharing the load across multiple CPU cores.</p>\n<p>For <strong>threads</strong>, if you are doing “lightweight” work like fetching data from the web where a lot of time is spent waiting for the server to respond, but very little computational work within Python is required, then threads are a great fit!</p>\n<p>However if you are doing computationally intensive work (imagine calculating prime numbers or similar complex tasks) then each thread will be contending for CPU time. Python is a single processes and can only have one thread running at a time due to the <abbr title=\"Global Interpreter Lock\">GIL</abbr>. So it will switch between multiple threads and try and make progress on each, but it cannot execute them truly simultaneously. Here we need to switch to processes.</p>\n<p><strong>Processes</strong> are relatively heavier weight as they essentially start a new python process, before executing the individual function. This is part of the reason for a “Pool”, to amortise the expensive cost of setting up processes, before allowing them to do a lot of work quickly. Here each process can be using it’s own CPU core fully, and thus make more sense for computationally expensive tasks.</p>\n<p>Let’s dive straight into an example: here we’re using the <code style=\"color: inherit\">multiprocessing</code> library which uses processes and is relatively simple to understand:</p>\n",
      "cell_type": "markdown",
      "metadata": {
        "editable": false,
        "collapsed": false
      }
    },
    {
      "id": "cell-1",
      "source": [
        "from multiprocessing import Pool"
      ],
      "cell_type": "code",
      "execution_count": null,
      "outputs": [

      ],
      "metadata": {
        "attributes": {
          "classes": [
            "> In this tutorial, we will cover:"
          ],
          "id": ""
        }
      }
    },
    {
      "id": "cell-2",
      "source": "<p>Importantly we should define a <em>pure</em> function, i.e. a function that only works on the inputs available to it, and doesn’t use or affect global state (i.e.  without side effects). (printing is ok.)</p>\n",
      "cell_type": "markdown",
      "metadata": {
        "editable": false,
        "collapsed": false
      }
    },
    {
      "id": "cell-3",
      "source": [
        "def f(x):\n",
        "    return x * x"
      ],
      "cell_type": "code",
      "execution_count": null,
      "outputs": [

      ],
      "metadata": {
        "attributes": {
          "classes": [
            "> In this tutorial, we will cover:"
          ],
          "id": ""
        }
      }
    },
    {
      "id": "cell-4",
      "source": "<p>We spawn a process Pool, with 5 processes And then use the convenient map\nfunction to send inputs multiply to the specified function <code class=\"language-plaintext highlighter-rouge\">f</code></p>\n",
      "cell_type": "markdown",
      "metadata": {
        "editable": false,
        "collapsed": false
      }
    },
    {
      "id": "cell-5",
      "source": [
        "with Pool(5) as p:\n",
        "    print(p.map(f, range(10)))"
      ],
      "cell_type": "code",
      "execution_count": null,
      "outputs": [

      ],
      "metadata": {
        "attributes": {
          "classes": [
            "> In this tutorial, we will cover:"
          ],
          "id": ""
        }
      }
    },
    {
      "id": "cell-6",
      "source": "<p>This will create 5 new python processes, and they will begin to consume tasks from the queue as quickly as they can. As soon as a process has finished handling one task, it will begin work on the next task.</p>\n<h2 id=\"pools--paralellism\">Pools &amp; Paralellism</h2>\n<p>Let’s do another example, the classic “print time”, to see how the threads are actually executing across 4 processes.</p>\n",
      "cell_type": "markdown",
      "metadata": {
        "editable": false,
        "collapsed": false
      }
    },
    {
      "id": "cell-7",
      "source": [
        "import time\n",
        "\n",
        "def g(x):\n",
        "    print(time.time())\n",
        "    time.sleep(1)\n",
        "\n",
        "with Pool(4) as p:\n",
        "    print(p.map(g, range(12)))"
      ],
      "cell_type": "code",
      "execution_count": null,
      "outputs": [

      ],
      "metadata": {
        "attributes": {
          "classes": [
            "> In this tutorial, we will cover:"
          ],
          "id": ""
        }
      }
    },
    {
      "id": "cell-8",
      "source": "<blockquote class=\"question\" style=\"border: 2px solid #8A9AD0; margin: 1em 0.2em\">\n<div class=\"box-title question-title\" id=\"question\"><i class=\"far fa-question-circle\" aria-hidden=\"true\" ></i> Question</div>\n<p>What did you see here?</p>\n<p>Was it clear and easy to read?</p>\n<br/><details style=\"border: 2px solid #B8C3EA; margin: 1em 0.2em;padding: 0.5em; cursor: pointer;\"><summary>👁 View solution</summary>\n<div class=\"box-title solution-title\" id=\"solution\"><button class=\"gtn-boxify-button solution\" type=\"button\" aria-controls=\"solution\" aria-expanded=\"true\"><i class=\"far fa-eye\" aria-hidden=\"true\" ></i> Solution<span class=\"fold-unfold fa fa-minus-square\"></span></button></div>\n<p>It prints four timestamps immediately, all around the same time. Then one second later it prints 4 more, and one second later, a final four.\nOur Pool of 4 processes processes the function the maximal amount of times possible concurrently. Once each of those functions returns, then it can move on to processing the next tasks.\nThis is precisely the situation of e.g. 4 queues at the grocery; as soon as one customer is processed, they immediately begin on the next, until no more remain.</p>\n<p>You might also see a situation where the numbers are interleaved in a completely unreadable way. Here they write immediately, but there is no synchronisation or limiting on who can write at one time, and the result is a mess of interleaved print statements.</p>\n</details>\n</blockquote>\n<h2 id=\"when-to-parallelise\">When to parallelise</h2>\n<p>Some guidelines:</p>\n<ul>\n<li>When you can isolate a pure function</li>\n<li>That do not require shared state, nor ordering</li>\n<li>That do not modify global state (pure!)</li>\n<li>That take a significant amount of time, relative to the time it takes to rewrite your code to support parallelising.</li>\n</ul>\n<p>Some common examples of this are slow tasks like requesting data from multiple websites, e.g. using the <code style=\"color: inherit\">requests</code> library. Or doing some computationally expensive calculation. The last point however is especially important, as it is not always trivial to rearchitect your code to handle being spread across multiple threads or processes.</p>\n<p>Let’s parallelize this program which fetches some metadata from multiple Galaxy servers:</p>\n",
      "cell_type": "markdown",
      "metadata": {
        "editable": false,
        "collapsed": false
      }
    },
    {
      "id": "cell-9",
      "source": [
        "import requests\n",
        "import time\n",
        "\n",
        "servers = [\n",
        "    \"https://usegalaxy.org\",\n",
        "    \"https://usegalaxy.org.au\",\n",
        "    \"https://usegalaxy.eu\",\n",
        "    \"https://usegalaxy.fr\",\n",
        "    \"https://usegalaxy.be\",\n",
        "]\n",
        "\n",
        "data = {}\n",
        "start = time.time()\n",
        "for url in servers:\n",
        "    print(url)\n",
        "    try:\n",
        "        response = requests.get(url + \"/api/version\", timeout=2).json()\n",
        "        data[url] = response['version_major']\n",
        "    except requests.exceptions.ConnectTimeout:\n",
        "        data[url] = None\n",
        "    except requests.exceptions.ReadTimeout:\n",
        "        data[url] = None\n",
        "\n",
        "\n",
        "# How long did it take to execute\n",
        "print(time.time() - start)\n",
        "\n",
        "for k, v in data.items():\n",
        "    print(k, v)"
      ],
      "cell_type": "code",
      "execution_count": null,
      "outputs": [

      ],
      "metadata": {
        "attributes": {
          "classes": [
            "> In this tutorial, we will cover:"
          ],
          "id": ""
        }
      }
    },
    {
      "id": "cell-10",
      "source": "<p>If we look at this, we can see one hot spot in the code, where it’s quite slow, requesting data from a remote server. If we want to speed this up we’ll need to isolate it into a pure function. Here we can see a possibility for a function that requests the data, with the input of the server url, and output of the version.</p>\n",
      "cell_type": "markdown",
      "metadata": {
        "editable": false,
        "collapsed": false
      }
    },
    {
      "id": "cell-11",
      "source": [
        "def fetch_version(server_url):\n",
        "    try:\n",
        "        response = requests.get(url + \"/api/version\", timeout=2).json()\n",
        "        return response['version_major']\n",
        "    except requests.exceptions.ConnectTimeout:\n",
        "        return None\n",
        "    except requests.exceptions.ReadTimeout:\n",
        "        return None"
      ],
      "cell_type": "code",
      "execution_count": null,
      "outputs": [

      ],
      "metadata": {
        "attributes": {
          "classes": [
            "> In this tutorial, we will cover:"
          ],
          "id": ""
        }
      }
    },
    {
      "id": "cell-12",
      "source": "<p>This now lacks side effects (like modifying the <code style=\"color: inherit\">data</code> object), and can be used in a map statement.</p>\n",
      "cell_type": "markdown",
      "metadata": {
        "editable": false,
        "collapsed": false
      }
    },
    {
      "id": "cell-13",
      "source": [
        "start = time.time()\n",
        "with Pool(4) as p:\n",
        "    versions = p.map(fetch_version, servers)\n",
        "    data = dict(zip(servers, versions))\n",
        "print(time.time() - start)\n",
        "\n",
        "for k, v in data.items():\n",
        "    print(k, v)"
      ],
      "cell_type": "code",
      "execution_count": null,
      "outputs": [

      ],
      "metadata": {
        "attributes": {
          "classes": [
            "> In this tutorial, we will cover:"
          ],
          "id": ""
        }
      }
    },
    {
      "id": "cell-14",
      "source": "<p>Same result, and now this is a lot more efficient!</p>\n<h2 id=\"sizing-your-pool\">Sizing your Pool</h2>\n<p>This depends largely on profilling your code or knowing the performance characteristics of it. In the above example, there is very little computation work executed as part of this function, it’s essentially all network I/O, no CPU or memory usage.</p>\n<p>As such, we can probably set our pool size to be very large, a multiple of our systems’ processor count. It will spawn many processes that do very little.</p>\n<p>If however this were a more complicated task (e.g. calculating a large number, machine learning, etc.), then we might wish to set our pool size to the number of CPUs - 1, as each process will potentially consume it’s CPU allocation completely, and we wish to have some left over for the managing program and any other work going on, on the system.</p>\n<blockquote class=\"question\" style=\"border: 2px solid #8A9AD0; margin: 1em 0.2em\">\n<div class=\"box-title question-title\" id=\"question-1\"><i class=\"far fa-question-circle\" aria-hidden=\"true\" ></i> Question</div>\n<p>Try changing the pool size and see what effect it has on runtime. Start from a value of 1, and go up to 5, the number of servers in our list.</p>\n<br/><details style=\"border: 2px solid #B8C3EA; margin: 1em 0.2em;padding: 0.5em; cursor: pointer;\"><summary>👁 View solution</summary>\n<div class=\"box-title solution-title\" id=\"solution-1\"><button class=\"gtn-boxify-button solution\" type=\"button\" aria-controls=\"solution-1\" aria-expanded=\"true\"><i class=\"far fa-eye\" aria-hidden=\"true\" ></i> Solution<span class=\"fold-unfold fa fa-minus-square\"></span></button></div>\n<p>Given the small sample size (5 servers), and the variability of response times (in local testing between 3-8 seconds for the single-pool version), you can see varying results but <em>generally</em> it should decrease as the pool size increases. However, sometimes you will see the Pool=5 version take the same or longer than Pool=4.</p>\n<p>Especially in the case that 1 server (or 1 request one time) dominates the request time, this can “hide” the improvements as the others complete quickly on the remaining N-1 processes.</p>\n</details>\n</blockquote>\n",
      "cell_type": "markdown",
      "metadata": {
        "editable": false,
        "collapsed": false
      }
    },
    {
      "id": "cell-15",
      "source": [
        "results = []\n",
        "for i in range(1, 6):\n",
        "    start = time.time()\n",
        "    with Pool(i) as p:\n",
        "        versions = p.map(fetch_version, servers)\n",
        "        data = dict(zip(servers, versions))\n",
        "    duration = time.time() - start\n",
        "    results.append(duration)\n",
        "\n",
        "# Plot it\n",
        "import matplotlib.pyplot as plt\n",
        "fig, ax = plt.subplots()\n",
        "ax.plot(range(1, 6), results)\n",
        "ax.set(ylabel='time (s)', xlabel='Pool Size', title='Pool size vs runtime')\n",
        "ax.grid()\n",
        "# Uncomment if your notebook cannot display images inline.\n",
        "# fig.savefig(\"pool-vs-runtime.png\")\n",
        "plt.show()"
      ],
      "cell_type": "code",
      "execution_count": null,
      "outputs": [

      ],
      "metadata": {
        "attributes": {
          "classes": [
            "> In this tutorial, we will cover:"
          ],
          "id": ""
        }
      }
    },
    {
      "id": "cell-16",
      "source": "<p>You might see a result similar to the following:</p>\n<p><img src=\"../../images/pool-vs-runtime.png\" alt=\"graph of the above, showing a decrease in runtime from 2.6 seconds to approximately 1.1 seconds as the pool size increases from 1 to 5. As the pool size increases from 1-2 there is a large improvement, but as it increases from 4-5 the improvement is very small, on the order of milliseconds.\" width=\"640\" height=\"480\" loading=\"lazy\" /></p>\n<h2 id=\"threads\">Threads</h2>\n<p>Let’s convert our previous example from processes to threads, as processes aren’t strictly necessary for such a light weight use case as fetching data from the internet where you’re blocking on network rather than CPU resources.</p>\n",
      "cell_type": "markdown",
      "metadata": {
        "editable": false,
        "collapsed": false
      }
    },
    {
      "id": "cell-17",
      "source": [
        "import concurrent.futures\n",
        "import requests\n",
        "import time\n",
        "\n",
        "data = {}\n",
        "start = time.time()\n",
        "with concurrent.futures.ThreadPoolExecutor(max_workers=4) as executor:\n",
        "    future_to_url = {executor.submit(fetch_version, url): url for url in servers}\n",
        "    for future in concurrent.futures.as_completed(future_to_url):\n",
        "        url = future_to_url[future]\n",
        "        try:\n",
        "            version = future.result()\n",
        "            data[url] = version\n",
        "        except Exception as exc:\n",
        "            print('%r generated an exception: %s' % (url, exc))\n",
        "print(time.time() - start)\n",
        "\n",
        "for k, v in data.items():\n",
        "    print(k, v)"
      ],
      "cell_type": "code",
      "execution_count": null,
      "outputs": [

      ],
      "metadata": {
        "attributes": {
          "classes": [
            "> In this tutorial, we will cover:"
          ],
          "id": ""
        }
      }
    },
    {
      "id": "cell-18",
      "source": "<p>This is a bit more complicated to write, but again, if you’re not blocking on CPU resources, then this is potentially approximately as effecient as thread pools.</p>\n<blockquote class=\"question\" style=\"border: 2px solid #8A9AD0; margin: 1em 0.2em\">\n<div class=\"box-title question-title\" id=\"question-2\"><i class=\"far fa-question-circle\" aria-hidden=\"true\" ></i> Question</div>\n<p>What result did you get? Was it slower, faster, or about the same as processes?</p>\n</blockquote>\n",
      "cell_type": "markdown",
      "metadata": {
        "editable": false,
        "collapsed": false
      }
    },
    {
      "cell_type": "markdown",
      "id": "final-ending-cell",
      "metadata": {
        "editable": false,
        "collapsed": false
      },
      "source": [
        "# Key Points\n\n",
        "- Code go brrrt.\n",
        "\n# Congratulations on successfully completing this tutorial!\n\n",
        "Please [fill out the feedback on the GTN website](https://training.galaxyproject.org/training-material/topics/data-science/tutorials/python-multiprocessing/tutorial.html#feedback) and check there for further resources!\n"
      ]
    }
  ]
}