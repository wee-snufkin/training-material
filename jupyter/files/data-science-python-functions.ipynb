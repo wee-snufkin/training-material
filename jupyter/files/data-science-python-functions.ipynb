{
  "metadata": {
  },
  "nbformat": 4,
  "nbformat_minor": 5,
  "cells": [
    {
      "id": "metadata",
      "cell_type": "markdown",
      "source": "<div style=\"border: 2px solid #8A9AD0; margin: 1em 0.2em; padding: 0.5em;\">\n\n# Python - Functions\n\nby [The Carpentries](https://training.galaxyproject.org/hall-of-fame/carpentries/), [Helena Rasche](https://training.galaxyproject.org/hall-of-fame/hexylena/), [Donny Vrins](https://training.galaxyproject.org/hall-of-fame/dirowa/), [Bazante Sanders](https://training.galaxyproject.org/hall-of-fame/bazante1/)\n\nCC-BY licensed content from the [Galaxy Training Network](https://training.galaxyproject.org/)\n\n**Objectives**\n\n- How do I write functions in Python?\n- What is a function?\n- What do they look like?\n- Fill in the missing part of a function\n\n**Objectives**\n\n- Understand the structure of a \"function\" in order to be able to construct their own functions and predict which functions will not work.\n\n**Time Estimation: 30M**\n</div>\n",
      "metadata": {
        "editable": false,
        "collapsed": false
      }
    },
    {
      "id": "cell-0",
      "source": "<p>Functions are the basic unit of all work in Python! Absolutely everything you do uses functions. Conceptually, functions are super simple. Just like in maths, they take an input, do some transformation, and return an output. As an example, <code style=\"color: inherit\">f(x) = x + 2</code> is a function that calculates whatever value you request, plus two. But functions are foundational, so, you should understand them well before moving on.</p>\n<blockquote class=\"agenda\" style=\"border: 2px solid #86D486;display: none; margin: 1em 0.2em\">\n<div class=\"box-title agenda-title\" id=\"agenda\">Agenda</div>\n<p>In this tutorial, we will cover:</p>\n<ol id=\"markdown-toc\">\n<li><a href=\"#what-is-a-function\" id=\"markdown-toc-what-is-a-function\">What is a Function</a></li>\n<li><a href=\"#create-functions\" id=\"markdown-toc-create-functions\">Create Functions</a></li>\n</ol>\n</blockquote>\n<h2 id=\"what-is-a-function\">What is a Function</h2>\n<p>Functions are a way to re-use some computation you want to do, multiple times. If you don’t have a function, you need to re-write the calculation every time, so we use functions to collect those statements and make them easy to re-run. Additionally they let us “parameterise” some computation. Instead of computing the same value every time, we can template it out, we can re-run the computation with new inputs, and see new results.</p>\n<blockquote class=\"code-2col\">\n<blockquote class=\"code-in\" style=\"border: 2px solid #86D486; margin: 1em 0.2em\">\n<div class=\"box-title code-in-title\" id=\"code-in-math\"><i class=\"far fa-keyboard\" aria-hidden=\"true\" ></i> Input: Math</div>\n<div class=\"language-plaintext highlighter-rouge\"><div><pre style=\"color: inherit; background: transparent\"><code style=\"color: inherit\"># Define our function\nf(x) = 3 * x\n# Compute some value\nf(3) # is 9\n</code></pre></div>    </div>\n</blockquote>\n<blockquote class=\"code-out\" style=\"border: 2px solid #fb99d0; margin: 1em 0.2em\">\n<div class=\"box-title code-out-title\" id=\"code-out-python\"><i class=\"fas fa-laptop-code\" aria-hidden=\"true\" ></i> Output: Python</div>\n<div class=\"language-plaintext highlighter-rouge\"><div><pre style=\"color: inherit; background: transparent\"><code style=\"color: inherit\"># Define our function\ndef f(x):\n   return 3 * x\n# Compute some value\nf(3)\n</code></pre></div>    </div>\n</blockquote>\n</blockquote>\n<p>We’ve talked about mathematical functions before, but now we’ll talk about more programing-related functions</p>\n<h2 id=\"create-functions\">Create Functions</h2>\n<p>Human beings can only keep a few items in working memory at a time. Breaking down larger/more complicated pieces of code in functions helps in understanding and using it. A function can be re-used. Write one time, use many times. (Known as staying Don’t Repeat Yourself (DRY) in the industry.)</p>\n<p>Knowing what Americans mean when they talk about temperatures and weather can be difficult, but we can wrap the temperature conversion calculation (\\(^{\\circ}\\text{C} = (^{\\circ}\\text{F} - 32) * \\dfrac{5}{9}\\)) up as a function that we can easily re-use.</p>\n",
      "cell_type": "markdown",
      "metadata": {
        "editable": false,
        "collapsed": false
      }
    },
    {
      "id": "cell-1",
      "source": [
        "def fahr_to_celsius(temp):\n",
        "    return ((temp - 32) * (5/9))"
      ],
      "cell_type": "code",
      "execution_count": null,
      "outputs": [

      ],
      "metadata": {
        "attributes": {
          "classes": [
            ""
          ],
          "id": ""
        }
      }
    },
    {
      "id": "cell-2",
      "source": "<p><img src=\"../../images/python-basics/Figure7_Functions.png\" alt=\"The above function fahr to celsius is shown except annotated. def is labelled &quot;def statement&quot;, fahr_to_celsius is noted as the function name. Inside parentheses is temp and an arrow shows it is called parameter names. The next line which is indented is annotated as the function body which has a return statement and the calculation from above.\" width=\"340\" height=\"130\" loading=\"lazy\" /></p>\n<p>The function definition opens with the keyword <code style=\"color: inherit\">def</code> followed by the name of the function <code style=\"color: inherit\">fahr_to_celsius</code> and a parenthesized list of parameter names <code style=\"color: inherit\">temp</code>. The body of the function — the statements that are executed when it runs — is indented below the definition line. The body concludes with a <code style=\"color: inherit\">return</code> keyword followed by the return value.</p>\n<p>When we call the function, the values we pass to it are assigned to those variables so that we can use them inside the function. Inside the function, we use a return statement to send a result back to whoever asked for it.</p>\n<p>Let’s try running our function.</p>\n",
      "cell_type": "markdown",
      "metadata": {
        "editable": false,
        "collapsed": false
      }
    },
    {
      "id": "cell-3",
      "source": [
        "fahr_to_celsius(32)\n",
        "print(f\"freezing point of water: {fahr_to_celsius(32)}C\")\n",
        "print(f\"boiling point of water: {fahr_to_celsius(212)}C\")"
      ],
      "cell_type": "code",
      "execution_count": null,
      "outputs": [

      ],
      "metadata": {
        "attributes": {
          "classes": [
            ""
          ],
          "id": ""
        }
      }
    },
    {
      "id": "cell-4",
      "source": "<blockquote class=\"tip\" style=\"border: 2px solid #FFE19E; margin: 1em 0.2em\">\n<div class=\"box-title tip-title\" id=\"tip-formatting-strings\"><button class=\"gtn-boxify-button tip\" type=\"button\" aria-controls=\"tip-formatting-strings\" aria-expanded=\"true\"><i class=\"far fa-lightbulb\" aria-hidden=\"true\" ></i> Tip: Formatting Strings<span class=\"fold-unfold fa fa-minus-square\"></span></button></div>\n<p>There are several ways to print out a few values in python. We’d recommend you to use <code style=\"color: inherit\">f-strings</code> as it’s the cleanest and most modern way to do it.</p>\n<p><code style=\"color: inherit\">f</code>-strings start with an <code style=\"color: inherit\">f</code> (very descriptive name eh?). Within the text between the single or double quotes (<code class=\"language-plaintext highlighter-rouge\">'</code>/<code class=\"language-plaintext highlighter-rouge\">\"</code>) you can use curly braces to refer to variables or python code which will be placed there in the string.</p>\n<div class=\"language-plaintext highlighter-rouge\"><div><pre style=\"color: inherit; background: transparent\"><code style=\"color: inherit\">a = 10\nb = f\"Here is the value of a: {a}\"\nprint(b)\nprint(f\"Here is the value of a: {5 + 5}\")\nprint(f\"Here is the value of a: {function_that_returns_10()}\")\n</code></pre></div>  </div>\n<p>All of those would print out <code style=\"color: inherit\">Here is the value of a: 10</code>.</p>\n<p>f-strings can be a lot fancier for formatting decimal places, but we don’t need that for now. Just know:</p>\n<ol>\n<li>Start with an <code style=\"color: inherit\">f</code></li>\n<li>Use braces to use the value of a variable, a function, or some python expression.</li>\n</ol>\n</blockquote>\n<p>We’ve successfully called the function that we defined, and we have access to the value that we returned.</p>\n<p>Now that we’ve seen how to turn Fahrenheit into Celsius, we can also write the function to turn Celsius into Kelvin:</p>\n",
      "cell_type": "markdown",
      "metadata": {
        "editable": false,
        "collapsed": false
      }
    },
    {
      "id": "cell-5",
      "source": [
        "def celsius_to_kelvin(temp_c):\n",
        "    return temp_c + 273.15\n",
        "\n",
        "print(f'freezing point of water in Kelvin: {celsius_to_kelvin(0.)}')"
      ],
      "cell_type": "code",
      "execution_count": null,
      "outputs": [

      ],
      "metadata": {
        "attributes": {
          "classes": [
            ""
          ],
          "id": ""
        }
      }
    },
    {
      "id": "cell-6",
      "source": "<blockquote class=\"tip\" style=\"border: 2px solid #FFE19E; margin: 1em 0.2em\">\n<div class=\"box-title tip-title\" id=\"tip-what-is-code-style-quot-color-inherit-quot-0-code\"><button class=\"gtn-boxify-button tip\" type=\"button\" aria-controls=\"tip-what-is-code-style-quot-color-inherit-quot-0-code\" aria-expanded=\"true\"><i class=\"far fa-lightbulb\" aria-hidden=\"true\" ></i> Tip: What is <code style=&quot;color: inherit&quot;>0.</code><span class=\"fold-unfold fa fa-minus-square\"></span></button></div>\n<p>That’s a float! A <code style=\"color: inherit\">.</code> in a number makes it a float, rather than an integer.</p>\n</blockquote>\n<p>What about converting Fahrenheit to Kelvin? We could write out both formulae, but we don’t need to. Instead, we can <em>compose</em> the two functions we have already created:</p>\n",
      "cell_type": "markdown",
      "metadata": {
        "editable": false,
        "collapsed": false
      }
    },
    {
      "id": "cell-7",
      "source": [
        "def fahr_to_kelvin(temp_f):\n",
        "    temp_c = fahr_to_celsius(temp_f)\n",
        "    temp_k = celsius_to_kelvin(temp_c)\n",
        "    return temp_k\n",
        "\n",
        "print(f'boiling point of water in Kelvin: {fahr_to_kelvin(212.0)}')"
      ],
      "cell_type": "code",
      "execution_count": null,
      "outputs": [

      ],
      "metadata": {
        "attributes": {
          "classes": [
            ""
          ],
          "id": ""
        }
      }
    },
    {
      "id": "cell-8",
      "source": "<p>This is our first taste of how larger programs are built: we define basic operations, then combine them in ever-larger chunks to get the effect we want. Real-life functions will usually be larger than the ones shown here — typically half a dozen to a few dozen lines — but they shouldn’t ever be much longer than that, or the next person who reads it won’t be able to understand what’s going on.</p>\n<h3 id=\"documentation\">Documentation</h3>\n<p>Documenting your code is extremely, <em>extremely</em>, <strong>extremely</strong> important to do. We all forget what we’re doing, it’s only normal, so documenting what you’re doing is key to being able to restart work later.</p>\n",
      "cell_type": "markdown",
      "metadata": {
        "editable": false,
        "collapsed": false
      }
    },
    {
      "id": "cell-9",
      "source": [
        "def fahr_to_kelvin(temp_f):\n",
        "    \"\"\"\n",
        "    Converts a temperature from Fahrenheit to Kelvin\n",
        "\n",
        "    temp_f: the temperature in Fahrenheit\n",
        "\n",
        "    returns the temperature in Celsius\n",
        "    \"\"\"\n",
        "    temp_c = fahr_to_celsius(temp_f)\n",
        "    temp_k = celsius_to_kelvin(temp_c)\n",
        "    return temp_k\n",
        "\n",
        "print(f'boiling point of water in Kelvin: {fahr_to_kelvin(212.0)}')"
      ],
      "cell_type": "code",
      "execution_count": null,
      "outputs": [

      ],
      "metadata": {
        "attributes": {
          "classes": [
            ""
          ],
          "id": ""
        }
      }
    },
    {
      "id": "cell-10",
      "source": "<p>For a function this small, with such a descriptive name (<code class=\"language-plaintext highlighter-rouge\">fahr_to_kelvin</code>) it feels quite obvious what the function should do, what inputs it takes, what outputs it produces. However, you will thank yourself in the future if you do this now. You may think you will remember what the code does, but, be kind to your future self who is busy and stressed and may not want to spend time reading the code over again to figure out what every single function does.</p>\n<blockquote class=\"question\" style=\"border: 2px solid #8A9AD0; margin: 1em 0.2em\">\n<div class=\"box-title question-title\" id=\"question-converting-statements-to-functions\"><i class=\"far fa-question-circle\" aria-hidden=\"true\" ></i> Question: Converting statements to functions</div>\n<p>A lot of what you’ll do in programing is to turn a procedure that you want to do, into statements and a function.</p>\n<p>Fill in the missing portions of this function, two average numbers. Then use it to find the average of 32326 and 631</p>\n<br/><details style=\"border: 2px solid #B8C3EA; margin: 1em 0.2em;padding: 0.5em; cursor: pointer;\"><summary>👁 View solution</summary>\n<div class=\"box-title solution-title\" id=\"solution\"><button class=\"gtn-boxify-button solution\" type=\"button\" aria-controls=\"solution\" aria-expanded=\"true\"><i class=\"far fa-eye\" aria-hidden=\"true\" ></i> Solution<span class=\"fold-unfold fa fa-minus-square\"></span></button></div>\n<div class=\"language-plaintext highlighter-rouge\"><div><pre style=\"color: inherit; background: transparent\"><code style=\"color: inherit\">def average2(a, b):\n    c = (a + b) / 2\n    return c\n</code></pre></div>    </div>\n<p>We call it “average2” here because it will only average two numbers. It will not work for three numbers or a list of them.</p>\n</details>\n</blockquote>\n",
      "cell_type": "markdown",
      "metadata": {
        "editable": false,
        "collapsed": false
      }
    },
    {
      "id": "cell-11",
      "source": [
        "# Test out solutions here!\n",
        "def average2(a, b):\n",
        "    c =\n",
        "    return c\n",
        "\n",
        "print(average2(32326, 631))"
      ],
      "cell_type": "code",
      "execution_count": null,
      "outputs": [

      ],
      "metadata": {
        "attributes": {
          "classes": [
            ""
          ],
          "id": ""
        }
      }
    },
    {
      "id": "cell-12",
      "source": "<blockquote class=\"question\" style=\"border: 2px solid #8A9AD0; margin: 1em 0.2em\">\n<div class=\"box-title question-title\" id=\"question-a-more-complicated-example\"><i class=\"far fa-question-circle\" aria-hidden=\"true\" ></i> Question: A more complicated example</div>\n<p>The formula for a 90° triangle can be expressed as: \\(c = \\sqrt{a^2 + b^2}\\)</p>\n<ol>\n<li>Write a function which takes <code style=\"color: inherit\">a</code> and <code style=\"color: inherit\">b</code>, and calculates <code style=\"color: inherit\">c</code></li>\n<li>Name this function “pythagorus”</li>\n<li>Remember to import math, if you haven’t already</li>\n</ol>\n<br/><details style=\"border: 2px solid #B8C3EA; margin: 1em 0.2em;padding: 0.5em; cursor: pointer;\"><summary>👁 View solution</summary>\n<div class=\"box-title solution-title\" id=\"solution-1\"><button class=\"gtn-boxify-button solution\" type=\"button\" aria-controls=\"solution-1\" aria-expanded=\"true\"><i class=\"far fa-eye\" aria-hidden=\"true\" ></i> Solution<span class=\"fold-unfold fa fa-minus-square\"></span></button></div>\n<div class=\"language-plaintext highlighter-rouge\"><div><pre style=\"color: inherit; background: transparent\"><code style=\"color: inherit\">def pythagorus(a, b):\n    c = math.sqrt(math.pow(a, 2) + math.pow(b, 2))\n    return c\n</code></pre></div>    </div>\n</details>\n</blockquote>\n",
      "cell_type": "markdown",
      "metadata": {
        "editable": false,
        "collapsed": false
      }
    },
    {
      "id": "cell-13",
      "source": [
        "# Test out solutions here!\n",
        "\n",
        "\n",
        "print(pythagorus(1234, 4321)) # Should return 4493.750883170984"
      ],
      "cell_type": "code",
      "execution_count": null,
      "outputs": [

      ],
      "metadata": {
        "attributes": {
          "classes": [
            ""
          ],
          "id": ""
        }
      }
    },
    {
      "id": "cell-14",
      "source": "<h3 id=\"variable-scope\">Variable Scope</h3>\n<p>In composing our temperature conversion functions, we created variables inside of those functions, <code style=\"color: inherit\">temp</code>, <code style=\"color: inherit\">temp_c</code>, <code style=\"color: inherit\">temp_f</code>, and <code style=\"color: inherit\">temp_k</code>. We refer to these variables as local variables because they no longer exist once the function is done executing. If we try to access their values outside of the function, we will encounter an error:</p>\n",
      "cell_type": "markdown",
      "metadata": {
        "editable": false,
        "collapsed": false
      }
    },
    {
      "id": "cell-15",
      "source": [
        "print(f'Again, temperature in Kelvin was: {temp_k}')"
      ],
      "cell_type": "code",
      "execution_count": null,
      "outputs": [

      ],
      "metadata": {
        "attributes": {
          "classes": [
            ""
          ],
          "id": ""
        }
      }
    },
    {
      "id": "cell-16",
      "source": "<p>If you want to reuse the temperature in Kelvin after you have calculated it with fahr_to_kelvin, you can store the result of the function call in a variable:</p>\n",
      "cell_type": "markdown",
      "metadata": {
        "editable": false,
        "collapsed": false
      }
    },
    {
      "id": "cell-17",
      "source": [
        "temp_kelvin = fahr_to_kelvin(212.0)\n",
        "print(f'temperature in Kelvin was: {temp_kelvin}')"
      ],
      "cell_type": "code",
      "execution_count": null,
      "outputs": [

      ],
      "metadata": {
        "attributes": {
          "classes": [
            ""
          ],
          "id": ""
        }
      }
    },
    {
      "id": "cell-18",
      "source": "<p>Watch out for scope issues:</p>\n<ul>\n<li>Variables created inside a function will stay inside the function</li>\n<li>Variables created outside of the function can be accessible inside the function, but you should not do this!</li>\n<li>Ensure that variables are properly scoped will prevent later errors when working with modules or testing big projects.</li>\n</ul>\n",
      "cell_type": "markdown",
      "metadata": {
        "editable": false,
        "collapsed": false
      }
    },
    {
      "id": "cell-19",
      "source": [
        "a = 1\n",
        "b = 2.0\n",
        "\n",
        "# Location 1\n",
        "\n",
        "def some_generic_computation(x, y):\n",
        "    c = x + y\n",
        "    d = x * y\n",
        "    e = c / d\n",
        "    # Location 2\n",
        "    return e\n",
        "\n",
        "# Location 3"
      ],
      "cell_type": "code",
      "execution_count": null,
      "outputs": [

      ],
      "metadata": {
        "attributes": {
          "classes": [
            ""
          ],
          "id": ""
        }
      }
    },
    {
      "id": "cell-20",
      "source": "<blockquote class=\"question\" style=\"border: 2px solid #8A9AD0; margin: 1em 0.2em\">\n<div class=\"box-title question-title\" id=\"question-scope\"><i class=\"far fa-question-circle\" aria-hidden=\"true\" ></i> Question: Scope</div>\n<p>Given the above code, which variables are accessible at Locations 1, 2, and 3?</p>\n<br/><details style=\"border: 2px solid #B8C3EA; margin: 1em 0.2em;padding: 0.5em; cursor: pointer;\"><summary>👁 View solution</summary>\n<div class=\"box-title solution-title\" id=\"solution-2\"><button class=\"gtn-boxify-button solution\" type=\"button\" aria-controls=\"solution-2\" aria-expanded=\"true\"><i class=\"far fa-eye\" aria-hidden=\"true\" ></i> Solution<span class=\"fold-unfold fa fa-minus-square\"></span></button></div>\n<ol>\n<li>a, b</li>\n<li>a and b are there but you shouldn’t use these. x, y, c, d, e are also accessible.</li>\n<li>a, b.</li>\n</ol>\n</details>\n</blockquote>\n<h3 id=\"defining-default-parameters\">Defining Default parameters</h3>\n<p>If we usually want a function to work one way, but occasionally need it to do something else, we can allow people to pass a parameter when they need to but provide a default to make the normal case easier. The example below shows how Python matches values to parameters:</p>\n",
      "cell_type": "markdown",
      "metadata": {
        "editable": false,
        "collapsed": false
      }
    },
    {
      "id": "cell-21",
      "source": [
        "def display(a=1, b=2, c=3):\n",
        "    print(f'a: {a}, b: {b}, c: {c}')\n",
        "\n",
        "# no parameters:\n",
        "display()\n",
        "# one parameter:\n",
        "display(55)\n",
        "# two parameters:\n",
        "display(55, 66)"
      ],
      "cell_type": "code",
      "execution_count": null,
      "outputs": [

      ],
      "metadata": {
        "attributes": {
          "classes": [
            ""
          ],
          "id": ""
        }
      }
    },
    {
      "id": "cell-22",
      "source": "<p>As this example shows, parameters are matched up from left to right, and any that haven’t been given a value explicitly get their default value. We can override this behavior by naming the value as we pass it in:</p>\n",
      "cell_type": "markdown",
      "metadata": {
        "editable": false,
        "collapsed": false
      }
    },
    {
      "id": "cell-23",
      "source": [
        "# only setting the value of c\n",
        "display(c=77)"
      ],
      "cell_type": "code",
      "execution_count": null,
      "outputs": [

      ],
      "metadata": {
        "attributes": {
          "classes": [
            ""
          ],
          "id": ""
        }
      }
    },
    {
      "id": "cell-24",
      "source": "<blockquote class=\"question\" style=\"border: 2px solid #8A9AD0; margin: 1em 0.2em\">\n<div class=\"box-title question-title\" id=\"question-exercise-signing-a-message\"><i class=\"far fa-question-circle\" aria-hidden=\"true\" ></i> Question: Exercise: Signing a message</div>\n<p>Let’s test out a default argument. Imagine you are printing out a message, and at the bottom it should have a signature.</p>\n<p>Inputs:</p>\n<ul>\n<li><code style=\"color: inherit\">message</code>: a variable that is always provided to the function, it has no default.</li>\n<li><code style=\"color: inherit\">signature</code>: a variable that can be <em>optionally</em> provided, it should have a default like your name.</li>\n</ul>\n<p>You can accomplish this with <em>three print statements</em>:</p>\n<ol>\n<li>Print the message</li>\n<li>Print nothing (i.e. <code style=\"color: inherit\">print()</code>)</li>\n<li>Print a signature variable.</li>\n</ol>\n<br/><details style=\"border: 2px solid #B8C3EA; margin: 1em 0.2em;padding: 0.5em; cursor: pointer;\"><summary>👁 View solution</summary>\n<div class=\"box-title solution-title\" id=\"solution-3\"><button class=\"gtn-boxify-button solution\" type=\"button\" aria-controls=\"solution-3\" aria-expanded=\"true\"><i class=\"far fa-eye\" aria-hidden=\"true\" ></i> Solution<span class=\"fold-unfold fa fa-minus-square\"></span></button></div>\n<div class=\"language-plaintext highlighter-rouge\"><div><pre style=\"color: inherit; background: transparent\"><code style=\"color: inherit\">def myFunction(message, signature=\"Your name\"):\n    print(message)\n    print()\n    print(signature)\n</code></pre></div>    </div>\n</details>\n</blockquote>\n",
      "cell_type": "markdown",
      "metadata": {
        "editable": false,
        "collapsed": false
      }
    },
    {
      "id": "cell-25",
      "source": [
        "# Test things out here!\n",
        "def myFunction # Fix this function!\n",
        "\n",
        "\n",
        "# Here are some test cases, for you to check if your function works!\n",
        "myFunction('This is a message')\n",
        "myFunction('This is a message', signature='Jane Doe')"
      ],
      "cell_type": "code",
      "execution_count": null,
      "outputs": [

      ],
      "metadata": {
        "attributes": {
          "classes": [
            ""
          ],
          "id": ""
        }
      }
    },
    {
      "id": "cell-26",
      "source": "\n",
      "cell_type": "markdown",
      "metadata": {
        "editable": false,
        "collapsed": false
      }
    },
    {
      "cell_type": "markdown",
      "id": "final-ending-cell",
      "metadata": {
        "editable": false,
        "collapsed": false
      },
      "source": [
        "# Key Points\n\n",
        "- Functions are foundational in Python\n",
        "- Everything you do will require functions\n",
        "- Functions keep your code DRY (don't repeat yourself), reducing your copying and pasting or rewriting the same block of code.\n",
        "- Deciding what part of your code should, or should not be, a function is something that will come with practice.\n",
        "\n# Congratulations on successfully completing this tutorial!\n\n",
        "Please [fill out the feedback on the GTN website](https://training.galaxyproject.org/training-material/topics/data-science/tutorials/python-functions/tutorial.html#feedback) and check there for further resources!\n"
      ]
    }
  ]
}