{
  "metadata": {
  },
  "nbformat": 4,
  "nbformat_minor": 5,
  "cells": [
    {
      "id": "metadata",
      "cell_type": "markdown",
      "source": "<div style=\"border: 2px solid #8A9AD0; margin: 1em 0.2em; padding: 0.5em;\">\n\n# Python - Flow Control\n\nby [The Carpentries](https://training.galaxyproject.org/hall-of-fame/carpentries/), [Helena Rasche](https://training.galaxyproject.org/hall-of-fame/hexylena/), [Donny Vrins](https://training.galaxyproject.org/hall-of-fame/dirowa/), [Bazante Sanders](https://training.galaxyproject.org/hall-of-fame/bazante1/)\n\nCC-BY licensed content from the [Galaxy Training Network](https://training.galaxyproject.org/)\n\n**Objectives**\n\n- How can my programs do different things based on data values?\n\n**Objectives**\n\n- Write conditional statements including <code style=\"color: inherit\">if</code>, <code style=\"color: inherit\">elif</code>, and <code style=\"color: inherit\">else</code> branches.\n- Correctly evaluate expressions containing <code style=\"color: inherit\">and</code> and <code style=\"color: inherit\">or</code>.\n\n**Time Estimation: 40M**\n</div>\n",
      "metadata": {
        "editable": false,
        "collapsed": false
      }
    },
    {
      "id": "cell-0",
      "source": "<p>“Flow Control” is how we describe when we change the flow of code’s execution, based on some conditions. Here we’ll learn how to take different actions depending on what data out program sees, or how to run code only if some condition is true.</p>\n<blockquote class=\"comment\" style=\"border: 2px solid #ffecc1; margin: 1em 0.2em\">\n<div class=\"box-title comment-title\" id=\"comment\"><i class=\"far fa-comment-dots\" aria-hidden=\"true\" ></i> Comment</div>\n<p>This tutorial is <strong>significantly</strong> based on <a href=\"https://carpentries.org\">the Carpentries</a> <a href=\"https://swcarpentry.github.io/python-novice-inflammation/\">Programming with Python</a> and <a href=\"https://swcarpentry.github.io/python-novice-gapminder/\">Plotting and Programming in Python</a>, which are licensed CC-BY 4.0.</p>\n<p>Adaptations have been made to make this work better in a GTN/Galaxy environment.</p>\n</blockquote>\n<blockquote class=\"agenda\" style=\"border: 2px solid #86D486;display: none; margin: 1em 0.2em\">\n<div class=\"box-title agenda-title\" id=\"agenda\">Agenda</div>\n<p>In this tutorial, we will cover:</p>\n<ol id=\"markdown-toc\">\n<li><a href=\"#comparators\" id=\"markdown-toc-comparators\">Comparators</a></li>\n</ol>\n</blockquote>\n<h2 id=\"comparators\">Comparators</h2>\n<p>In Python we have the following comparators to do compare two values</p>\n<ul>\n<li><code style=\"color: inherit\">&gt;</code>: greater than</li>\n<li><code style=\"color: inherit\">&lt;</code>: less than</li>\n<li><code style=\"color: inherit\">==</code>: equal to</li>\n<li><code style=\"color: inherit\">!=</code>: does not equal</li>\n<li><code style=\"color: inherit\">&gt;=</code>: greater than or equal to</li>\n<li><code style=\"color: inherit\">&lt;=</code>: less than or equal to</li>\n</ul>\n<p>They’re all “binary” comparators, we can only compare two values at a time.</p>\n",
      "cell_type": "markdown",
      "metadata": {
        "editable": false,
        "collapsed": false
      }
    },
    {
      "id": "cell-1",
      "source": [
        "print(37 < 38)\n",
        "print(38 < 38)\n",
        "print(39 < 38)"
      ],
      "cell_type": "code",
      "execution_count": null,
      "outputs": [

      ],
      "metadata": {
        "attributes": {
          "classes": [
            "> <comment-title></comment-title>"
          ],
          "id": ""
        }
      }
    },
    {
      "id": "cell-2",
      "source": "<p>These print out <code style=\"color: inherit\">True</code> or <code style=\"color: inherit\">False</code>, these are the two possible values of the <a href=\"https://en.wikipedia.org/wiki/Boolean_algebra\"><em>boolean</em></a> datatype in Python.</p>\n<p>We can use <code style=\"color: inherit\">&lt;=</code> to check if it’s less than or equal to:</p>\n",
      "cell_type": "markdown",
      "metadata": {
        "editable": false,
        "collapsed": false
      }
    },
    {
      "id": "cell-3",
      "source": [
        "print(19 <= 20)\n",
        "print(20 <= 20)\n",
        "print(21 <= 20)"
      ],
      "cell_type": "code",
      "execution_count": null,
      "outputs": [

      ],
      "metadata": {
        "attributes": {
          "classes": [
            "> <comment-title></comment-title>"
          ],
          "id": ""
        }
      }
    },
    {
      "id": "cell-4",
      "source": "<p>And we can use <code style=\"color: inherit\">==</code> for comparing numbers in Python</p>\n<div class=\"language-plaintext highlighter-rouge\"><div><pre style=\"color: inherit; background: transparent\"><code style=\"color: inherit\">print(11 == 11)\nprint(11 != 11)\nprint(22 != 33)\n</code></pre></div></div>\n<p>And now that we can compare numbers, we can start doing useful things with them!</p>\n<h2 id=\"conditionals\">Conditionals</h2>\n<p>We can ask Python to take different actions, depending on a condition, with an <code style=\"color: inherit\">if</code> statement:</p>\n",
      "cell_type": "markdown",
      "metadata": {
        "editable": false,
        "collapsed": false
      }
    },
    {
      "id": "cell-5",
      "source": [
        "num = 37\n",
        "if num > 100:\n",
        "    print('greater')\n",
        "else:\n",
        "    print('not greater')\n",
        "print('done')"
      ],
      "cell_type": "code",
      "execution_count": null,
      "outputs": [

      ],
      "metadata": {
        "attributes": {
          "classes": [
            "> <comment-title></comment-title>"
          ],
          "id": ""
        }
      }
    },
    {
      "id": "cell-6",
      "source": "<p>The second line of this code uses the keyword <code style=\"color: inherit\">if</code> to tell Python that we want to make a choice.\nIf the test that follows the <code style=\"color: inherit\">if</code> statement is true,\nthe body of the <code style=\"color: inherit\">if</code>\n(i.e., the set of lines indented underneath it) is executed, and “greater” is printed.\nIf the test is false,\nthe body of the <code style=\"color: inherit\">else</code> is executed instead, and “not greater” is printed.\nOnly one or the other is ever executed before continuing on with program execution to print “done”:</p>\n<p><img src=\"../../images/python-flowchart-conditional.png\" alt=\"A flowchart diagram of the if-else construct that tests if variable num is greater than 100. \" width=\"338\" height=\"268\" loading=\"lazy\" /></p>\n<p>Conditional statements don’t have to include an <code style=\"color: inherit\">else</code>. If there isn’t one,\nPython simply does nothing if the test is false:</p>\n",
      "cell_type": "markdown",
      "metadata": {
        "editable": false,
        "collapsed": false
      }
    },
    {
      "id": "cell-7",
      "source": [
        "num = 53\n",
        "print('before conditional...')\n",
        "if num > 100:\n",
        "    print(f'{num} is greater than 100')\n",
        "print('...after conditional')"
      ],
      "cell_type": "code",
      "execution_count": null,
      "outputs": [

      ],
      "metadata": {
        "attributes": {
          "classes": [
            "> <comment-title></comment-title>"
          ],
          "id": ""
        }
      }
    },
    {
      "id": "cell-8",
      "source": "<blockquote class=\"question\" style=\"border: 2px solid #8A9AD0; margin: 1em 0.2em\">\n<div class=\"box-title question-title\" id=\"question-if-behaviour\"><i class=\"far fa-question-circle\" aria-hidden=\"true\" ></i> Question: If behaviour</div>\n<p>Try changing the <code style=\"color: inherit\">num</code> value and see what happens for different values.</p>\n<p>What happens if <code style=\"color: inherit\">num</code> is a:</p>\n<ol>\n<li>202</li>\n<li>3.145</li>\n<li>“test”</li>\n<li>100.000001</li>\n</ol>\n<br/><details style=\"border: 2px solid #B8C3EA; margin: 1em 0.2em;padding: 0.5em; cursor: pointer;\"><summary>👁 View solution</summary>\n<div class=\"box-title solution-title\" id=\"solution\"><button class=\"gtn-boxify-button solution\" type=\"button\" aria-controls=\"solution\" aria-expanded=\"true\"><i class=\"far fa-eye\" aria-hidden=\"true\" ></i> Solution<span class=\"fold-unfold fa fa-minus-square\"></span></button></div>\n<ol>\n<li>Condition is activated!</li>\n<li>Nothing, but not because it is a float! Because it’s less than 100</li>\n<li>Traceback, a <code style=\"color: inherit\">TypeError</code>, you cannot compare strings with integers</li>\n<li>Condition is activated!</li>\n</ol>\n</details>\n</blockquote>\n<h2 id=\"multiple-branches\">Multiple Branches</h2>\n<p>But what if you want more branches? What if you need to handle more cases? <code style=\"color: inherit\">elif</code> to the rescue!</p>\n<p>We can chain several tests together using <code style=\"color: inherit\">elif</code>, which is short for “else if”.</p>\n<div class=\"language-plaintext highlighter-rouge\"><div><pre style=\"color: inherit; background: transparent\"><code style=\"color: inherit\">if todays_temperature &gt; 30:\n    print(\"Wear shorts! Remember your sunscreen\")\nelif todays_temperature &gt; 20:\n    print(\"It's nice weather finally! Gasp!\")\nelif todays_temperature &lt; 10:\n    print(\"Time to bundle up!\")\nelse:\n    print(\"Dress normally\")\n</code></pre></div></div>\n<blockquote class=\"tip\" style=\"border: 2px solid #FFE19E; margin: 1em 0.2em\">\n<div class=\"box-title tip-title\" id=\"tip-if-elif-elif-elif-else\"><button class=\"gtn-boxify-button tip\" type=\"button\" aria-controls=\"tip-if-elif-elif-elif-else\" aria-expanded=\"true\"><i class=\"far fa-lightbulb\" aria-hidden=\"true\" ></i> Tip: If/Elif/Elif/Elif/Else:<span class=\"fold-unfold fa fa-minus-square\"></span></button></div>\n<p>if/elif/else cases follow these rules:</p>\n<ul>\n<li>must start with an <code style=\"color: inherit\">if</code></li>\n<li>can have 0 or more <code style=\"color: inherit\">elif</code> conditions</li>\n<li>can have 0 or 1 <code style=\"color: inherit\">else</code> condition (if no else condition is supplied, it’s equivalent to <code style=\"color: inherit\">else: <nothing>&lt;/code&gt;)</nothing></code></li>\n</ul>\n</blockquote>\n<p>Each of these three sections is a <strong>branch</strong>, the code pauses, and chooses to go down one of the branches based on the conditions.</p>\n<p>The following Python code uses <code style=\"color: inherit\">elif</code> to print the sign of a number.</p>\n",
      "cell_type": "markdown",
      "metadata": {
        "editable": false,
        "collapsed": false
      }
    },
    {
      "id": "cell-9",
      "source": [
        "num = -3\n",
        "\n",
        "if num > 0:\n",
        "    print(f'{num} is positive')\n",
        "elif num == 0:\n",
        "    print(f'{num} is zero')\n",
        "else:\n",
        "    print(f'{num} is negative')"
      ],
      "cell_type": "code",
      "execution_count": null,
      "outputs": [

      ],
      "metadata": {
        "attributes": {
          "classes": [
            "> <comment-title></comment-title>"
          ],
          "id": ""
        }
      }
    },
    {
      "id": "cell-10",
      "source": "<p><strong>NB</strong>: To test for equality we use a double equals sign <code style=\"color: inherit\">==</code>\nrather than a single equals sign <code style=\"color: inherit\">=</code> which is used to assign values.</p>\n<h2 id=\"combining-tests\">Combining Tests</h2>\n<p>We can also combine tests using <code style=\"color: inherit\">and</code> and <code style=\"color: inherit\">or</code>.\n<code style=\"color: inherit\">and</code> is only true if both parts are true:</p>\n",
      "cell_type": "markdown",
      "metadata": {
        "editable": false,
        "collapsed": false
      }
    },
    {
      "id": "cell-11",
      "source": [
        "a = 1\n",
        "b = -1\n",
        "if (a > 0) and (b <= 0):\n",
        "    print('both parts are true')\n",
        "else:\n",
        "    print('at least one part is false')"
      ],
      "cell_type": "code",
      "execution_count": null,
      "outputs": [

      ],
      "metadata": {
        "attributes": {
          "classes": [
            "> <comment-title></comment-title>"
          ],
          "id": ""
        }
      }
    },
    {
      "id": "cell-12",
      "source": "<blockquote class=\"question\" style=\"border: 2px solid #8A9AD0; margin: 1em 0.2em\">\n<div class=\"box-title question-title\" id=\"question-predict-what-happens\"><i class=\"far fa-question-circle\" aria-hidden=\"true\" ></i> Question: Predict what happens</div>\n<p>Predict the outcomes of the following values of <code style=\"color: inherit\">a</code> and <code style=\"color: inherit\">b</code> above. Predicting what you think the code will do is a useful skill to practice</p>\n<ol>\n<li>a = 0; b = -1</li>\n<li>a = 0; b = 10</li>\n<li>a = 4; b = -22</li>\n<li>a = 99; b = 99</li>\n</ol>\n<br/><details style=\"border: 2px solid #B8C3EA; margin: 1em 0.2em;padding: 0.5em; cursor: pointer;\"><summary>👁 View solution</summary>\n<div class=\"box-title solution-title\" id=\"solution-1\"><button class=\"gtn-boxify-button solution\" type=\"button\" aria-controls=\"solution-1\" aria-expanded=\"true\"><i class=\"far fa-eye\" aria-hidden=\"true\" ></i> Solution<span class=\"fold-unfold fa fa-minus-square\"></span></button></div>\n<ol>\n<li>at least one part is false</li>\n<li>at least one part is false</li>\n<li>both parts are true</li>\n<li>at least one part is false</li>\n</ol>\n</details>\n</blockquote>\n<p>while <code style=\"color: inherit\">or</code> is true if at least one part is true:</p>\n",
      "cell_type": "markdown",
      "metadata": {
        "editable": false,
        "collapsed": false
      }
    },
    {
      "id": "cell-13",
      "source": [
        "a = 1\n",
        "b = -1\n",
        "if (a < 0) or (b > 0):\n",
        "    print('at least one test is true')"
      ],
      "cell_type": "code",
      "execution_count": null,
      "outputs": [

      ],
      "metadata": {
        "attributes": {
          "classes": [
            "> <comment-title></comment-title>"
          ],
          "id": ""
        }
      }
    },
    {
      "id": "cell-14",
      "source": "<blockquote class=\"tip\" style=\"border: 2px solid #FFE19E; margin: 1em 0.2em\">\n<div class=\"box-title tip-title\" id=\"tip-code-style-quot-color-inherit-quot-true-code-and-code-style-quot-color-inherit-quot-false-code\"><button class=\"gtn-boxify-button tip\" type=\"button\" aria-controls=\"tip-code-style-quot-color-inherit-quot-true-code-and-code-style-quot-color-inherit-quot-false-code\" aria-expanded=\"true\"><i class=\"far fa-lightbulb\" aria-hidden=\"true\" ></i> Tip: <code style=&quot;color: inherit&quot;>True</code> and <code style=&quot;color: inherit&quot;>False</code><span class=\"fold-unfold fa fa-minus-square\"></span></button></div>\n<p><code style=\"color: inherit\">True</code> and <code style=\"color: inherit\">False</code> are special words in Python called <code style=\"color: inherit\">booleans</code>,\nwhich represent truth values. A statement such as <code style=\"color: inherit\">1 &lt; 0</code> returns\nthe value <code style=\"color: inherit\">False</code>, while <code style=\"color: inherit\">-1 &lt; 0</code> returns the value <code style=\"color: inherit\">True</code>.</p>\n</blockquote>\n<p><code style=\"color: inherit\">True</code> and <code style=\"color: inherit\">False</code> booleans are not the only values in Python that are true and false.\nIn fact, <em>any</em> value can be used in an <code style=\"color: inherit\">if</code> or <code style=\"color: inherit\">elif</code>. This is commonly used to\ncheck, for instance, if a string is empty or if some data is provided:</p>\n",
      "cell_type": "markdown",
      "metadata": {
        "editable": false,
        "collapsed": false
      }
    },
    {
      "id": "cell-15",
      "source": [
        "if '':\n",
        "    print('empty string is true')\n",
        "if 'word':\n",
        "    print('word is true')"
      ],
      "cell_type": "code",
      "execution_count": null,
      "outputs": [

      ],
      "metadata": {
        "attributes": {
          "classes": [
            "> <comment-title></comment-title>"
          ],
          "id": ""
        }
      }
    },
    {
      "id": "cell-16",
      "source": "<p>You can also use it to check if a list is empty or full:</p>\n",
      "cell_type": "markdown",
      "metadata": {
        "editable": false,
        "collapsed": false
      }
    },
    {
      "id": "cell-17",
      "source": [
        "if []:\n",
        "    print('empty list is true')\n",
        "if [1, 2, 3]:\n",
        "    print('non-empty list is true')\n",
        "# The last statement is equivalent to:\n",
        "if len([1, 2, 3]) > 0:\n",
        "    print('non-empty list is true')"
      ],
      "cell_type": "code",
      "execution_count": null,
      "outputs": [

      ],
      "metadata": {
        "attributes": {
          "classes": [
            "> <comment-title></comment-title>"
          ],
          "id": ""
        }
      }
    },
    {
      "id": "cell-18",
      "source": "<p>Or you can check if a number is zero, or non-zero:</p>\n",
      "cell_type": "markdown",
      "metadata": {
        "editable": false,
        "collapsed": false
      }
    },
    {
      "id": "cell-19",
      "source": [
        "if 0:\n",
        "    print('zero is true')\n",
        "if 1:\n",
        "    print('one is true')"
      ],
      "cell_type": "code",
      "execution_count": null,
      "outputs": [

      ],
      "metadata": {
        "attributes": {
          "classes": [
            "> <comment-title></comment-title>"
          ],
          "id": ""
        }
      }
    },
    {
      "id": "cell-20",
      "source": "<h2 id=\"inverting-conditions\">Inverting Conditions</h2>\n<p>Sometimes it is useful to check whether some condition is not true.\nThe Boolean operator <code style=\"color: inherit\">not</code> can do this explicitly.\nAfter reading and running the code below,\nwrite some <code style=\"color: inherit\">if</code> statements that use <code style=\"color: inherit\">not</code> to test the rule\nthat you formulated in the previous question.\n<code style=\"color: inherit\">not</code> is a <code style=\"color: inherit\">unary</code> (not <code style=\"color: inherit\">binary</code>) operator: it only takes a single value</p>\n",
      "cell_type": "markdown",
      "metadata": {
        "editable": false,
        "collapsed": false
      }
    },
    {
      "id": "cell-21",
      "source": [
        "if not '':\n",
        "    print('empty string is not true')\n",
        "if not 'word':\n",
        "    print('word is not true')\n",
        "if not not True:\n",
        "    print('not not True is true')"
      ],
      "cell_type": "code",
      "execution_count": null,
      "outputs": [

      ],
      "metadata": {
        "attributes": {
          "classes": [
            "> <comment-title></comment-title>"
          ],
          "id": ""
        }
      }
    },
    {
      "id": "cell-22",
      "source": "<h2 id=\"ranges\">Ranges</h2>\n<p>Python makes it super easy to check if a number is within a range.</p>\n",
      "cell_type": "markdown",
      "metadata": {
        "editable": false,
        "collapsed": false
      }
    },
    {
      "id": "cell-23",
      "source": [
        "quality_score = 32 # Try out different values!\n",
        "\n",
        "if quality_score > 40:\n",
        "    print(\"Your data is a bit sus\")\n",
        "elif 20 < quality_score <= 40:\n",
        "    print(\"Hey that looks ok\")\n",
        "elif 4 < quality_score <= 20:\n",
        "    print(\"Oh you did nanopore sequencing\")\n",
        "else:\n",
        "    print(\"It shouldn't be *that* bad. Try again.\")"
      ],
      "cell_type": "code",
      "execution_count": null,
      "outputs": [

      ],
      "metadata": {
        "attributes": {
          "classes": [
            "> <comment-title></comment-title>"
          ],
          "id": ""
        }
      }
    },
    {
      "id": "cell-24",
      "source": "<p>There are two important points here:</p>\n<ul>\n<li><code style=\"color: inherit\">20 &lt; x &lt; 40</code> is equivalent to <code style=\"color: inherit\">20 &lt; x and x &lt; 40</code>, checking both sides of the condition, to make sure it’s greater than one value and smaller than another</li>\n<li>Note that we checked in the second case <code style=\"color: inherit\">20 &lt; x</code> and then in the third we had to check <code style=\"color: inherit\">x &lt;= 20</code>. If we had not had a <code style=\"color: inherit\">&lt;=</code> on one side, what would have happened to 20? It would have gone straight to else!</li>\n</ul>\n<h2 id=\"exercises\">Exercises</h2>\n<blockquote class=\"question\" style=\"border: 2px solid #8A9AD0; margin: 1em 0.2em\">\n<div class=\"box-title question-title\" id=\"question\"><i class=\"far fa-question-circle\" aria-hidden=\"true\" ></i> Question</div>\n<p><code style=\"color: inherit\">if</code>s, <code style=\"color: inherit\">elif</code>s and <code style=\"color: inherit\">else</code>s get evaluated in blocks. Look at the following code and list the lines that are part of a single block.</p>\n<div class=\"language-plaintext highlighter-rouge\"><div><pre style=\"color: inherit; background: transparent\"><code style=\"color: inherit\">1.  if x:\n2.      # ..\n3.  if y:\n4.      # ..\n5.  elif z:\n6.      # ..\n7.  if q:\n8.      # ..\n9.  else:\n10.     # ..\n11. elif t:\n12.     # ..\n13. else e:\n14.     # ..\n</code></pre></div>  </div>\n<br/><details style=\"border: 2px solid #B8C3EA; margin: 1em 0.2em;padding: 0.5em; cursor: pointer;\"><summary>👁 View solution</summary>\n<div class=\"box-title solution-title\" id=\"solution-2\"><button class=\"gtn-boxify-button solution\" type=\"button\" aria-controls=\"solution-2\" aria-expanded=\"true\"><i class=\"far fa-eye\" aria-hidden=\"true\" ></i> Solution<span class=\"fold-unfold fa fa-minus-square\"></span></button></div>\n<p>“Blocks” of if/elif/elses</p>\n<ul>\n<li>must start with an <code style=\"color: inherit\">if</code></li>\n<li>can have 0 or more <code style=\"color: inherit\">elif</code> conditions</li>\n<li>can have 0 or 1 <code style=\"color: inherit\">else</code> condition (if no else condition is supplied, it’s equivalent to <code style=\"color: inherit\">else: <nothing>&lt;/code&gt;)</nothing></code></li>\n</ul>\n<p>The above blocks are parsed together, you could not insert a <code style=\"color: inherit\">print</code> anywhere within the blocks, but between the blocks it would work.</p>\n<ul>\n<li>1-2, Just an <code style=\"color: inherit\">if</code> by itself. There’s no elif, or else, so that’s the end of that block</li>\n<li>3-6, <code style=\"color: inherit\">if</code> and <code style=\"color: inherit\">elif</code> get evaluated, there is no <code style=\"color: inherit\">else</code>, so that’s the end of that block</li>\n<li>7-10, <code style=\"color: inherit\">if</code> and <code style=\"color: inherit\">else</code> is fine</li>\n<li>11-14, error! This is missing an <code style=\"color: inherit\">if</code> case, it will fail with a syntaxerror.</li>\n</ul>\n</details>\n</blockquote>\n",
      "cell_type": "markdown",
      "metadata": {
        "editable": false,
        "collapsed": false
      }
    },
    {
      "id": "cell-25",
      "source": [
        "# Test code here."
      ],
      "cell_type": "code",
      "execution_count": null,
      "outputs": [

      ],
      "metadata": {
        "attributes": {
          "classes": [
            "> <comment-title></comment-title>"
          ],
          "id": ""
        }
      }
    },
    {
      "id": "cell-26",
      "source": "<blockquote class=\"question\" style=\"border: 2px solid #8A9AD0; margin: 1em 0.2em\">\n<div class=\"box-title question-title\" id=\"question-how-many-paths\"><i class=\"far fa-question-circle\" aria-hidden=\"true\" ></i> Question: How Many Paths?</div>\n<p>Consider this code:</p>\n<div class=\"language-plaintext highlighter-rouge\"><div><pre style=\"color: inherit; background: transparent\"><code style=\"color: inherit\">if 4 &gt; 5:\n    print('A')\nelif 4 == 5:\n    print('B')\nelif 4 &lt; 5:\n    print('C')\n</code></pre></div>  </div>\n<p>Which of the following would be printed if you were to run this code?\nWhy did you pick this answer?</p>\n<ol>\n<li>A</li>\n<li>B</li>\n<li>C</li>\n<li>B and C</li>\n</ol>\n<br/><details style=\"border: 2px solid #B8C3EA; margin: 1em 0.2em;padding: 0.5em; cursor: pointer;\"><summary>👁 View solution</summary>\n<div class=\"box-title solution-title\" id=\"solution-3\"><button class=\"gtn-boxify-button solution\" type=\"button\" aria-controls=\"solution-3\" aria-expanded=\"true\"><i class=\"far fa-eye\" aria-hidden=\"true\" ></i> Solution<span class=\"fold-unfold fa fa-minus-square\"></span></button></div>\n<p>C gets printed because the first two conditions, <code style=\"color: inherit\">4 &gt; 5</code> and <code style=\"color: inherit\">4 == 5</code>, are not true,\nbut <code style=\"color: inherit\">4 &lt; 5</code> is true.</p>\n</details>\n</blockquote>\n",
      "cell_type": "markdown",
      "metadata": {
        "editable": false,
        "collapsed": false
      }
    },
    {
      "id": "cell-27",
      "source": [
        "# Test code here."
      ],
      "cell_type": "code",
      "execution_count": null,
      "outputs": [

      ],
      "metadata": {
        "attributes": {
          "classes": [
            "> <comment-title></comment-title>"
          ],
          "id": ""
        }
      }
    },
    {
      "id": "cell-28",
      "source": "<blockquote class=\"question\" style=\"border: 2px solid #8A9AD0; margin: 1em 0.2em\">\n<div class=\"box-title question-title\" id=\"question-close-enough\"><i class=\"far fa-question-circle\" aria-hidden=\"true\" ></i> Question: Close Enough</div>\n<p>Write some conditions that print <code style=\"color: inherit\">True</code> if the variable <code style=\"color: inherit\">a</code> is within <code style=\"color: inherit\">10</code> of the variable <code style=\"color: inherit\">b</code>\nand <code style=\"color: inherit\">False</code> otherwise.\nCompare your implementation with your partner’s:\ndo you get the same answer for all possible pairs of numbers?</p>\n<blockquote class=\"tip\" style=\"border: 2px solid #FFE19E; margin: 1em 0.2em\">\n<div class=\"box-title tip-title\" id=\"tip-abs\"><button class=\"gtn-boxify-button tip\" type=\"button\" aria-controls=\"tip-abs\" aria-expanded=\"true\"><i class=\"far fa-lightbulb\" aria-hidden=\"true\" ></i> Tip: abs<span class=\"fold-unfold fa fa-minus-square\"></span></button></div>\n<p>There is a [built-in function <code style=\"color: inherit\">abs</code>][abs-function] that returns the absolute value of\na number:</p>\n<div class=\"language-plaintext highlighter-rouge\"><div><pre style=\"color: inherit; background: transparent\"><code style=\"color: inherit\">print(abs(-12))\n</code></pre></div>    </div>\n<div class=\"language-plaintext highlighter-rouge\"><div><pre style=\"color: inherit; background: transparent\"><code style=\"color: inherit\">12\n</code></pre></div>    </div>\n</blockquote>\n<br/><details style=\"border: 2px solid #B8C3EA; margin: 1em 0.2em;padding: 0.5em; cursor: pointer;\"><summary>👁 View solution</summary>\n<div class=\"box-title solution-title\" id=\"solution-1\"><button class=\"gtn-boxify-button solution\" type=\"button\" aria-controls=\"solution-1\" aria-expanded=\"true\"><i class=\"far fa-eye\" aria-hidden=\"true\" ></i> Solution: 1<span class=\"fold-unfold fa fa-minus-square\"></span></button></div>\n<div class=\"language-plaintext highlighter-rouge\"><div><pre style=\"color: inherit; background: transparent\"><code style=\"color: inherit\">a = 5\nb = 5.1\n\nif abs(a - b) &lt;= 10:\n    print('True')\nelse:\n    print('False')\n</code></pre></div>    </div>\n</details>\n<br/><details style=\"border: 2px solid #B8C3EA; margin: 1em 0.2em;padding: 0.5em; cursor: pointer;\"><summary>👁 View solution</summary>\n<div class=\"box-title solution-title\" id=\"solution-2\"><button class=\"gtn-boxify-button solution\" type=\"button\" aria-controls=\"solution-2\" aria-expanded=\"true\"><i class=\"far fa-eye\" aria-hidden=\"true\" ></i> Solution: 2<span class=\"fold-unfold fa fa-minus-square\"></span></button></div>\n<div class=\"language-plaintext highlighter-rouge\"><div><pre style=\"color: inherit; background: transparent\"><code style=\"color: inherit\">print(abs(a - b) &lt;= 10)\n</code></pre></div>    </div>\n<p>This works because the Booleans <code style=\"color: inherit\">True</code> and <code style=\"color: inherit\">False</code>\nhave string representations which can be printed.</p>\n</blockquote>\n</blockquote>\n",
      "cell_type": "markdown",
      "metadata": {
        "editable": false,
        "collapsed": false
      }
    },
    {
      "id": "cell-29",
      "source": [
        "# Test code here."
      ],
      "cell_type": "code",
      "execution_count": null,
      "outputs": [

      ],
      "metadata": {
        "attributes": {
          "classes": [
            "> <comment-title></comment-title>"
          ],
          "id": ""
        }
      }
    },
    {
      "id": "cell-30",
      "source": "<blockquote class=\"question\" style=\"border: 2px solid #8A9AD0; margin: 1em 0.2em\">\n<div class=\"box-title question-title\" id=\"question-pitfalls\"><i class=\"far fa-question-circle\" aria-hidden=\"true\" ></i> Question: Pitfalls</div>\n<p>A <em>integer</em> number between 0 and 100 will be provided to this function. Answer these two questions:</p>\n<ul>\n<li>Will it always print something? If not, which value(s) fail?</li>\n<li>Can you find any numbers the programmer explicitly wanted to handle, that aren’t handled as expected?</li>\n</ul>\n<div class=\"language-plaintext highlighter-rouge\"><div><pre style=\"color: inherit; background: transparent\"><code style=\"color: inherit\">num = 42 # Randomly chosen so the code will execute, try changing it around.\nif num &gt; 90:\n    print(\"great score\")\nelif num &lt; 32:\n    print(\"Very cold\")\nelif num &gt;= 86:\n    print(\"Almost\")\nelif num == 86:\n    print(\"It's exactly this value!\")\nelif 32 &lt; num &lt; 58:\n    print(\"Getting warmer\")\nelif 57 &lt; num &lt;= 86:\n    print(\"Everything else goes here\")\n</code></pre></div>  </div>\n<br/><details style=\"border: 2px solid #B8C3EA; margin: 1em 0.2em;padding: 0.5em; cursor: pointer;\"><summary>👁 View solution</summary>\n<div class=\"box-title solution-title\" id=\"solution-4\"><button class=\"gtn-boxify-button solution\" type=\"button\" aria-controls=\"solution-4\" aria-expanded=\"true\"><i class=\"far fa-eye\" aria-hidden=\"true\" ></i> Solution<span class=\"fold-unfold fa fa-minus-square\"></span></button></div>\n<ol>\n<li>No, it won’t. 32 is the only value there that doesn’t print anything. You can either do <code style=\"color: inherit\">x &lt; 57</code> and later <code style=\"color: inherit\">57 &lt;= x</code> to test the bigger and smaller values, or you can make use <code style=\"color: inherit\">x &lt; 57</code> and <code style=\"color: inherit\">56 &lt; x</code>, which have the same results, but <strong>only with integers</strong>. If your code accepted a float, e.g. <code style=\"color: inherit\">56.5</code>, both of those tests would be true. So <code style=\"color: inherit\">x &lt; 57</code> and later <code style=\"color: inherit\">57 &lt;= x</code> is the preferred way to write that.</li>\n<li><code style=\"color: inherit\">86</code> is the most obvious solution to this, the programmer added a check specifically to see if the value was 86, but instead it’s caught by the previous case.</li>\n</ol>\n</details>\n</blockquote>\n",
      "cell_type": "markdown",
      "metadata": {
        "editable": false,
        "collapsed": false
      }
    },
    {
      "id": "cell-31",
      "source": [
        "num = 42 # Randomly chosen so the code will execute, try changing it around.\n",
        "if num > 90:\n",
        "    print(\"great score\")\n",
        "elif num < 32:\n",
        "    print(\"Very cold\")\n",
        "elif num >= 86:\n",
        "    print(\"Almost\")\n",
        "elif num == 86:\n",
        "    print(\"It's exactly this value!\")\n",
        "elif 32 < num < 58:\n",
        "    print(\"Getting warmer\")\n",
        "elif 57 < num <= 86:\n",
        "    print(\"Everything else goes here\")"
      ],
      "cell_type": "code",
      "execution_count": null,
      "outputs": [

      ],
      "metadata": {
        "attributes": {
          "classes": [
            "> <comment-title></comment-title>"
          ],
          "id": ""
        }
      }
    },
    {
      "id": "cell-32",
      "source": "<blockquote class=\"tip\" style=\"border: 2px solid #FFE19E; margin: 1em 0.2em\">\n<div class=\"box-title tip-title\" id=\"tip-why-a-synthetic-example-like-this\"><button class=\"gtn-boxify-button tip\" type=\"button\" aria-controls=\"tip-why-a-synthetic-example-like-this\" aria-expanded=\"true\"><i class=\"far fa-lightbulb\" aria-hidden=\"true\" ></i> Tip: Why a synthetic example like this?<span class=\"fold-unfold fa fa-minus-square\"></span></button></div>\n<p>Complicated if/elif/else cases are common in code, you need to be able to spot these sort of issues. For example there are large if/else cases in the <a href=\"https://github.com/galaxyproject/galaxy/blob/9143dd7ca46d150ebfb26febbe187979f682da51/tools/stats/grouping.py#L153-L176\">Galaxy codebase</a>, sometimes nested even, and being ale to predict their behaviour is really important to being able to work with the code. <a href=\"https://github.com/galaxyproject/galaxy/blob/9143dd7ca46d150ebfb26febbe187979f682da51/tools/stats/grouping.py#L185-L195\">Missing else cases</a> are sometimes important, sometimes a bug, sometimes just the code hasn’t been implemented yet, which is why we always write good code comments!</p>\n</blockquote>\n",
      "cell_type": "markdown",
      "metadata": {
        "editable": false,
        "collapsed": false
      }
    },
    {
      "cell_type": "markdown",
      "id": "final-ending-cell",
      "metadata": {
        "editable": false,
        "collapsed": false
      },
      "source": [
        "# Key Points\n\n",
        "- Use `if condition` to start a conditional statement, `elif condition` to provide additional tests, and `else` to provide a default.\n",
        "- The bodies of the branches of conditional statements must be indented.\n",
        "- Use `==` to test for equality.\n",
        "- `X and Y` is only true if both `X` and `Y` are true.\n",
        "- `X or Y` is true if either `X` or `Y`, or both, are true.\n",
        "- Zero, the empty string, and the empty list are considered false; all other numbers, strings, and lists are considered true.\n",
        "- `True` and `False` represent truth values.\n",
        "- `not` can be used to invert the condition\n",
        "\n# Congratulations on successfully completing this tutorial!\n\n",
        "Please [fill out the feedback on the GTN website](https://training.galaxyproject.org/training-material/topics/data-science/tutorials/python-flow/tutorial.html#feedback) and check there for further resources!\n"
      ]
    }
  ]
}