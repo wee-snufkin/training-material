{
  "metadata": {
  },
  "nbformat": 4,
  "nbformat_minor": 5,
  "cells": [
    {
      "id": "metadata",
      "cell_type": "markdown",
      "source": "<div style=\"border: 2px solid #8A9AD0; margin: 1em 0.2em; padding: 0.5em;\">\n\n# Python - Type annotations\n\nby [Helena Rasche](https://training.galaxyproject.org/hall-of-fame/hexylena/)\n\nCC-BY licensed content from the [Galaxy Training Network](https://training.galaxyproject.org/)\n\n**Objectives**\n\n- What is typing?\n- How does it improve code?\n- Can it help me?\n\n**Objectives**\n\n- Understand the utility of annotating types on one's code\n- Understand the limits of type annotations in python\n\n**Time Estimation: 30M**\n</div>\n",
      "metadata": {
        "editable": false,
        "collapsed": false
      }
    },
    {
      "id": "cell-0",
      "source": "<p>In some languages type annotations are a core part of the language and types are checked at compile time, to ensure your code can never use the incorrect type of object. Python, and a few other dynamic languages, instead use <a href=\"https://en.wikipedia.org/wiki/Duck_typing\">“Duck Typing”</a> wherein the type of the object is less important than whether or not the correct methods or attributes are available.</p>\n<p>However, we can provide type hints as we write python which will allow our editor to type check code as we go, even if it is not typically enforced at any point.</p>\n<blockquote class=\"agenda\" style=\"border: 2px solid #86D486;display: none; margin: 1em 0.2em\">\n<div class=\"box-title agenda-title\" id=\"agenda\">Agenda</div>\n<p>In this tutorial, we will cover:</p>\n<ol id=\"markdown-toc\">\n<li><a href=\"#types\" id=\"markdown-toc-types\">Types</a></li>\n</ol>\n</blockquote>\n<h2 id=\"types\">Types</h2>\n<p>Types used for annotations can be any of the base types:</p>\n",
      "cell_type": "markdown",
      "metadata": {
        "editable": false,
        "collapsed": false
      }
    },
    {
      "id": "cell-1",
      "source": [
        "str\n",
        "int\n",
        "float\n",
        "bool\n",
        "None\n",
        "..."
      ],
      "cell_type": "code",
      "execution_count": null,
      "outputs": [

      ],
      "metadata": {
        "attributes": {
          "classes": [
            "However, we can provide type hints as we write python which will allow our editor to type check code as we go, even if it is not typically enforced at any point."
          ],
          "id": ""
        }
      }
    },
    {
      "id": "cell-2",
      "source": "<p>or they can be relabeling of existing types, letting you create new types as needed to represent your internal data structures</p>\n",
      "cell_type": "markdown",
      "metadata": {
        "editable": false,
        "collapsed": false
      }
    },
    {
      "id": "cell-3",
      "source": [
        "from typing import NewType\n",
        "\n",
        "NameType = NewType(\"NameType\", str)\n",
        "Point2D = NewType(\"Point2D\", tuple[float, float])"
      ],
      "cell_type": "code",
      "execution_count": null,
      "outputs": [

      ],
      "metadata": {
        "attributes": {
          "classes": [
            "However, we can provide type hints as we write python which will allow our editor to type check code as we go, even if it is not typically enforced at any point."
          ],
          "id": ""
        }
      }
    },
    {
      "id": "cell-4",
      "source": "<blockquote class=\"tip\" style=\"border: 2px solid #FFE19E; margin: 1em 0.2em\">\n<div class=\"box-title tip-title\" id=\"tip-does-code-style-quot-color-inherit-quot-tuple-code-cause-an-issue\"><button class=\"gtn-boxify-button tip\" type=\"button\" aria-controls=\"tip-does-code-style-quot-color-inherit-quot-tuple-code-cause-an-issue\" aria-expanded=\"true\"><i class=\"far fa-lightbulb\" aria-hidden=\"true\" ></i> Tip: Does <code style=&quot;color: inherit&quot;>tuple</code> cause an issue?<span class=\"fold-unfold fa fa-minus-square\"></span></button></div>\n<p>You might be on a python earlier than 3.9. Please update, or rewrite these as Tuple and List which must be imported.</p>\n</blockquote>\n<h2 id=\"but-why\">But why?</h2>\n<p>Imagine for a minute you have a situation like the following, take a minute to read and understand the code:</p>\n",
      "cell_type": "markdown",
      "metadata": {
        "editable": false,
        "collapsed": false
      }
    },
    {
      "id": "cell-5",
      "source": [
        "# Fetch the user and history list\n",
        "(history_id, user_id) = GetUserAndCurrentHistory(\"hexylena\")\n",
        "\n",
        "# And make sure all of the permissions are correct\n",
        "history = History.fetch(history_id)\n",
        "history.share_with(user_id)\n",
        "history.save()"
      ],
      "cell_type": "code",
      "execution_count": null,
      "outputs": [

      ],
      "metadata": {
        "attributes": {
          "classes": [
            "However, we can provide type hints as we write python which will allow our editor to type check code as we go, even if it is not typically enforced at any point."
          ],
          "id": ""
        }
      }
    },
    {
      "id": "cell-6",
      "source": "<blockquote class=\"question\" style=\"border: 2px solid #8A9AD0; margin: 1em 0.2em\">\n<div class=\"box-title question-title\" id=\"question\"><i class=\"far fa-question-circle\" aria-hidden=\"true\" ></i> Question</div>\n<ol>\n<li>Can you be sure the <code style=\"color: inherit\">history_id</code> and <code style=\"color: inherit\">user_id</code> are in the correct order? It\nseems like potentially not, given the ordering of “user” and “history” in the\nfunction name, but without inspecting the definition of that function we\nwon’t know.</li>\n<li>What happens if <code style=\"color: inherit\">history_id</code> and <code style=\"color: inherit\">user_id</code> are swapped?</li>\n</ol>\n<br/><details style=\"border: 2px solid #B8C3EA; margin: 1em 0.2em;padding: 0.5em; cursor: pointer;\"><summary>👁 View solution</summary>\n<div class=\"box-title solution-title\" id=\"solution\"><button class=\"gtn-boxify-button solution\" type=\"button\" aria-controls=\"solution\" aria-expanded=\"true\"><i class=\"far fa-eye\" aria-hidden=\"true\" ></i> Solution<span class=\"fold-unfold fa fa-minus-square\"></span></button></div>\n<ol>\n<li>This is unanswerable without the code.</li>\n<li>\n<p>Depending on the magnitude of <code style=\"color: inherit\">history_id</code> and <code style=\"color: inherit\">user_id</code>, those may be within allowable ranges. Take for example</p>\n<table>\n<thead>\n<tr>\n<th>User</th>\n<th>History Id</th>\n</tr>\n</thead>\n<tbody>\n<tr>\n<td>1</td>\n<td>1</td>\n</tr>\n<tr>\n<td>1</td>\n<td>2</td>\n</tr>\n<tr>\n<td>2</td>\n<td>3</td>\n</tr>\n<tr>\n<td>2</td>\n<td>4</td>\n</tr>\n</tbody>\n</table>\n<p>Given <code style=\"color: inherit\">user_id=1</code> and <code style=\"color: inherit\">history_id=2</code> we may intend that the second row in our tables, history #2 owned by user #1, is shared with that user, as they’re the owner. But if those are backwards, we’ll get a situation where history #1 is actually associated with user #1, but instead we’re sharing with user #2. We’ve created a situation where we’ve accidentally shared the wrong history with the wrong user! This could be a GDPR violation for our system and cause a lot of trouble.</p>\n</li>\n</ol>\n</details>\n</blockquote>\n<p>However, if we have type definitions for the <code style=\"color: inherit\">UserId</code> and <code style=\"color: inherit\">HistoryId</code> that declare them as their own types:</p>\n",
      "cell_type": "markdown",
      "metadata": {
        "editable": false,
        "collapsed": false
      }
    },
    {
      "id": "cell-7",
      "source": [
        "from typing import NewType\n",
        "\n",
        "UserId = NewType(\"UserId\", int)\n",
        "HistoryId = NewType(\"HistoryId\", int)"
      ],
      "cell_type": "code",
      "execution_count": null,
      "outputs": [

      ],
      "metadata": {
        "attributes": {
          "classes": [
            "However, we can provide type hints as we write python which will allow our editor to type check code as we go, even if it is not typically enforced at any point."
          ],
          "id": ""
        }
      }
    },
    {
      "id": "cell-8",
      "source": "<p>And then defined on our function, e.g.</p>\n",
      "cell_type": "markdown",
      "metadata": {
        "editable": false,
        "collapsed": false
      }
    },
    {
      "id": "cell-9",
      "source": [
        "def GetUserAndCurrentHistory(username: str) -> tuple[UserId, HistoryId]:\n",
        "    x = UserId(1) # Pretend this is fetching from the database\n",
        "    y = HistoryId(2) # Likewise\n",
        "    return (x, y)"
      ],
      "cell_type": "code",
      "execution_count": null,
      "outputs": [

      ],
      "metadata": {
        "attributes": {
          "classes": [
            "However, we can provide type hints as we write python which will allow our editor to type check code as we go, even if it is not typically enforced at any point."
          ],
          "id": ""
        }
      }
    },
    {
      "id": "cell-10",
      "source": "<p>we would be able to catch that, even if we call the variable <code style=\"color: inherit\">user_id</code>, it will still be typed checked.</p>\n",
      "cell_type": "markdown",
      "metadata": {
        "editable": false,
        "collapsed": false
      }
    },
    {
      "id": "cell-11",
      "source": [
        "history_id: HistoryId\n",
        "user_id: UserId\n",
        "\n",
        "(user_id, history_id) = GetUserAndCurrentHistory(\"hexylena\")\n",
        "(history_id, user_id) = GetUserAndCurrentHistory(\"hexylena\")"
      ],
      "cell_type": "code",
      "execution_count": null,
      "outputs": [

      ],
      "metadata": {
        "attributes": {
          "classes": [
            "However, we can provide type hints as we write python which will allow our editor to type check code as we go, even if it is not typically enforced at any point."
          ],
          "id": ""
        }
      }
    },
    {
      "id": "cell-12",
      "source": "<p>If we’re using a code editor with typing hints, e.g. VSCode with PyLance, we’ll see something like:</p>\n<p><img src=\"../../images/typing.png\" alt=\"Screenshot of VSCode showing the functions from above. The version with history_id first has a bright red line under the function call of GetUserAndCurrentHistory. A popup tab shown on hovering over the function name shows that Expression of type UserId cannot be assigned to declared type HistoryId. UserId is incompatible with HistoryId. \" width=\"1329\" height=\"346\" loading=\"lazy\" /></p>\n<p>Here we see that we’re not allowed to call this function this way, it’s simply impossible.</p>\n<blockquote class=\"question\" style=\"border: 2px solid #8A9AD0; margin: 1em 0.2em\">\n<div class=\"box-title question-title\" id=\"question-1\"><i class=\"far fa-question-circle\" aria-hidden=\"true\" ></i> Question</div>\n<p>What happens if you execute this code?</p>\n<br/><details style=\"border: 2px solid #B8C3EA; margin: 1em 0.2em;padding: 0.5em; cursor: pointer;\"><summary>👁 View solution</summary>\n<div class=\"box-title solution-title\" id=\"solution-1\"><button class=\"gtn-boxify-button solution\" type=\"button\" aria-controls=\"solution-1\" aria-expanded=\"true\"><i class=\"far fa-eye\" aria-hidden=\"true\" ></i> Solution<span class=\"fold-unfold fa fa-minus-square\"></span></button></div>\n<p>It executes happily. Types are <strong>not enforced at runtime</strong>. So this case where they’re both custom types around an integer, Python sees that it expects an int in both versions of the function call, and that works fine for it. That is why we are repeatedly calling them “type hints”, they’re hints to your editor to show suggestions and help catch bugs, but they’re not enforced.\nIf you modified the line <code style=\"color: inherit\">y = HistoryId(2)</code> to be something like <code style=\"color: inherit\">y = \"test\"</code>, the code will also execute fine. Python doesn’t care that there’s suddenly a string where you promised and asked for, an int. It simply does not matter.</p>\n<p>However, types <em>are</em> checked when you do operations involving them. Trying to get the <code style=\"color: inherit\">len()</code> of an integer? That will raise an <code style=\"color: inherit\">TypeError</code>, as integers don’t support the <code style=\"color: inherit\">len()</code> call.</p>\n</details>\n</blockquote>\n<h2 id=\"typing-variables\">Typing Variables</h2>\n<p>Adding types to variables is easy, you’ve seen a few examples already:</p>\n",
      "cell_type": "markdown",
      "metadata": {
        "editable": false,
        "collapsed": false
      }
    },
    {
      "id": "cell-13",
      "source": [
        "a: str = \"Hello\"\n",
        "b: int = 3\n",
        "c: float = 3.14159\n",
        "d: bool = True"
      ],
      "cell_type": "code",
      "execution_count": null,
      "outputs": [

      ],
      "metadata": {
        "attributes": {
          "classes": [
            "However, we can provide type hints as we write python which will allow our editor to type check code as we go, even if it is not typically enforced at any point."
          ],
          "id": ""
        }
      }
    },
    {
      "id": "cell-14",
      "source": "<h3 id=\"complex-types\">Complex Types</h3>\n<p>But you can go further than this with things like <code style=\"color: inherit\">tuple</code> and <code style=\"color: inherit\">list</code> types:</p>\n",
      "cell_type": "markdown",
      "metadata": {
        "editable": false,
        "collapsed": false
      }
    },
    {
      "id": "cell-15",
      "source": [
        "e: list[int] = [1, 2, 3]\n",
        "f: tuple[int, str] = (3, \"Hi.\")\n",
        "g: list[tuple[int, int]] = [(1, 2), (3, 4)]"
      ],
      "cell_type": "code",
      "execution_count": null,
      "outputs": [

      ],
      "metadata": {
        "attributes": {
          "classes": [
            "However, we can provide type hints as we write python which will allow our editor to type check code as we go, even if it is not typically enforced at any point."
          ],
          "id": ""
        }
      }
    },
    {
      "id": "cell-16",
      "source": "<h3 id=\"typing-functions\">Typing Functions</h3>\n<p>Likewise you’ve seen an example of adding type hints to a function:</p>\n",
      "cell_type": "markdown",
      "metadata": {
        "editable": false,
        "collapsed": false
      }
    },
    {
      "id": "cell-17",
      "source": [
        "def reverse_list_of_ints(a: list[int]) -> list[int]:\n",
        "    return a[::-1]"
      ],
      "cell_type": "code",
      "execution_count": null,
      "outputs": [

      ],
      "metadata": {
        "attributes": {
          "classes": [
            "However, we can provide type hints as we write python which will allow our editor to type check code as we go, even if it is not typically enforced at any point."
          ],
          "id": ""
        }
      }
    },
    {
      "id": "cell-18",
      "source": "<p>But this is a very specific function, right? We can reverse lists with more than just integers. For this, you can use <code style=\"color: inherit\">Any</code>:</p>\n",
      "cell_type": "markdown",
      "metadata": {
        "editable": false,
        "collapsed": false
      }
    },
    {
      "id": "cell-19",
      "source": [
        "from typing import Any\n",
        "\n",
        "def reverse_list(a: list[Any]) -> list[Any]:\n",
        "    return a[::-1]"
      ],
      "cell_type": "code",
      "execution_count": null,
      "outputs": [

      ],
      "metadata": {
        "attributes": {
          "classes": [
            "However, we can provide type hints as we write python which will allow our editor to type check code as we go, even if it is not typically enforced at any point."
          ],
          "id": ""
        }
      }
    },
    {
      "id": "cell-20",
      "source": "<p>But this will lose the type information from the start of the function to the end. You said it was a <code style=\"color: inherit\">list[Any]</code> so your editor might not provide any type hints there, even though you could know, that calling it with a <code style=\"color: inherit\">list[int]</code> would always return the same type. Instead you can do</p>\n",
      "cell_type": "markdown",
      "metadata": {
        "editable": false,
        "collapsed": false
      }
    },
    {
      "id": "cell-21",
      "source": [
        "from typing import TypeVar\n",
        "\n",
        "T = TypeVar(\"T\") # Implicitly any\n",
        "\n",
        "def reverse_list(a: list[T]) -> list[T]:\n",
        "    return a[::-1]"
      ],
      "cell_type": "code",
      "execution_count": null,
      "outputs": [

      ],
      "metadata": {
        "attributes": {
          "classes": [
            "However, we can provide type hints as we write python which will allow our editor to type check code as we go, even if it is not typically enforced at any point."
          ],
          "id": ""
        }
      }
    },
    {
      "id": "cell-22",
      "source": "<p>Now this will allow the function to accept a list of any type of value, int, float, etc. But it will also accept types you might not have intended:</p>\n",
      "cell_type": "markdown",
      "metadata": {
        "editable": false,
        "collapsed": false
      }
    },
    {
      "id": "cell-23",
      "source": [
        "w: list[tuple[int, int]] = [(1, 2), (3, 4), (5, 8)]\n",
        "reverse_list(w)"
      ],
      "cell_type": "code",
      "execution_count": null,
      "outputs": [

      ],
      "metadata": {
        "attributes": {
          "classes": [
            "However, we can provide type hints as we write python which will allow our editor to type check code as we go, even if it is not typically enforced at any point."
          ],
          "id": ""
        }
      }
    },
    {
      "id": "cell-24",
      "source": "<p>We can lock down what types we’ll accept by using a <code style=\"color: inherit\">Union</code> instead of <code style=\"color: inherit\">Any</code>. With a <code style=\"color: inherit\">Union</code>, we can define that a type in that position might be any one of a few more specific types. Say your function can only accept strings, integers, or floats:</p>\n",
      "cell_type": "markdown",
      "metadata": {
        "editable": false,
        "collapsed": false
      }
    },
    {
      "id": "cell-25",
      "source": [
        "from typing import Union\n",
        "\n",
        "def reverse_list(a: list[Union[int, float, str]]) -> list[Union[int, float, str]]:\n",
        "    return a[::-1]"
      ],
      "cell_type": "code",
      "execution_count": null,
      "outputs": [

      ],
      "metadata": {
        "attributes": {
          "classes": [
            "However, we can provide type hints as we write python which will allow our editor to type check code as we go, even if it is not typically enforced at any point."
          ],
          "id": ""
        }
      }
    },
    {
      "id": "cell-26",
      "source": "<p>Here we have used a <code style=\"color: inherit\">Union[A, B, ...]</code> to declare that it can only be one of these three types.</p>\n<blockquote class=\"question\" style=\"border: 2px solid #8A9AD0; margin: 1em 0.2em\">\n<div class=\"box-title question-title\" id=\"question-2\"><i class=\"far fa-question-circle\" aria-hidden=\"true\" ></i> Question</div>\n<ol class=\"solution\">\n<li>\n<p>Are both of these valid definitions?`</p>\n<div class=\"language-plaintext highlighter-rouge\"><div><pre style=\"color: inherit; background: transparent\"><code style=\"color: inherit\">q1: list[Union[int, float, str]] = [1, 2, 3]\nq2: list[Union[int, float, str]] = [1, 2.3214, \"asdf\"]\n</code></pre></div>      </div>\n</li>\n<li>\n<p>If that wasn’t what you expected, how would you define it so that it would be?</p>\n<blockquote>\n<div class=\"box-title solution-title\" id=\"solution-2\"><button class=\"gtn-boxify-button solution\" type=\"button\" aria-controls=\"solution-2\" aria-expanded=\"true\"><i class=\"far fa-eye\" aria-hidden=\"true\" ></i> Solution<span class=\"fold-unfold fa fa-minus-square\"></span></button></div>\n<p>Yes, both are valid, but maybe you expected a homogeneous list. If you wanted that, you could instead do</p>\n<div class=\"language-plaintext highlighter-rouge\"><div><pre style=\"color: inherit; background: transparent\"><code style=\"color: inherit\">q3: Union[list[int], list[float], list[str]] = [1, 2, 3]\nq4: Union[list[int], list[float], list[str]] = [1, 2.3243, \"asdf\"] # Fails\n</code></pre></div>        </div>\n</blockquote>\n</li>\n</ol>\n</blockquote>\n<h3 id=\"optional\">Optional</h3>\n<p>Sometimes you have an argument to a function that is truly optional, maybe you have a different code path if it isn’t there, or you simply process things differently but still correctly. You can explicitly declare this by defining it as <code class=\"language-plaintext highlighter-rouge\">Optional</code></p>\n",
      "cell_type": "markdown",
      "metadata": {
        "editable": false,
        "collapsed": false
      }
    },
    {
      "id": "cell-27",
      "source": [
        "from typing import Optional\n",
        "\n",
        "def pretty(lines: list[str], padding: Optional[str] = None) -> None:\n",
        "    for line in lines:\n",
        "        if padding:\n",
        "            print(f\"{padding} {line}\")\n",
        "        else:\n",
        "            print(line)\n",
        "\n",
        "\n",
        "lines = [\"hello\", \"world\", \"你好\", \"世界\"]\n",
        "\n",
        "# Without the optional argument\n",
        "pretty(lines)\n",
        "# And with the optional\n",
        "pretty(lines, \"★\")"
      ],
      "cell_type": "code",
      "execution_count": null,
      "outputs": [

      ],
      "metadata": {
        "attributes": {
          "classes": [
            "However, we can provide type hints as we write python which will allow our editor to type check code as we go, even if it is not typically enforced at any point."
          ],
          "id": ""
        }
      }
    },
    {
      "id": "cell-28",
      "source": "<p>While this superficially <em>looks</em> like a keyword argument with a default value, however it’s subtly different. Here an explicit value of None is allowed, and we still know that it will either be a string, or it will be None. Not something that was possible with just a keyword argument.</p>\n<h2 id=\"testing-for-types\">Testing for Types</h2>\n<p>You can use <code style=\"color: inherit\">mypy</code> to ensure that these type annotations are working in a project, this is a step you could add to your automated testing, if you have that. Using the <code style=\"color: inherit\">HistoryId</code>/<code style=\"color: inherit\">UserId</code> example from above, we can write that out into a script and test it out by running <code style=\"color: inherit\">mypy</code> on that file:</p>\n<div class=\"language-console highlighter-rouge\"><div><pre style=\"color: inherit; background: transparent\"><code style=\"color: inherit\"><span class=\"gp\">&#36;</span><span class=\"w\"> </span>mypy tmp.py\n<span class=\"go\">tmp.py:15: error: Incompatible types in assignment (expression has type \"UserId\", variable has type \"HistoryId\")\ntmp.py:15: error: Incompatible types in assignment (expression has type \"HistoryId\", variable has type \"UserId\")\n</span></code></pre></div></div>\n<p>Here it reports the errors in the console, and you can use this to prevent bad code from being committed.</p>\n<h2 id=\"exercise\">Exercise</h2>\n<p>Here is an example module that would be stored in <code class=\"language-plaintext highlighter-rouge\">corp/__init__.py</code></p>\n",
      "cell_type": "markdown",
      "metadata": {
        "editable": false,
        "collapsed": false
      }
    },
    {
      "id": "cell-29",
      "source": [
        "def repeat(x, n):\n",
        "    \"\"\"Return a list containing n references to x.\"\"\"\n",
        "    return [x]*n\n",
        "\n",
        "\n",
        "def print_capitalized(x):\n",
        "    \"\"\"Print x capitalized, and return x.\"\"\"\n",
        "    print(x.capitalize())\n",
        "    return x\n",
        "\n",
        "\n",
        "def concatenate(x, y) :\n",
        "    \"\"\"Add two strings together.\"\"\"\n",
        "    return x + y"
      ],
      "cell_type": "code",
      "execution_count": null,
      "outputs": [

      ],
      "metadata": {
        "attributes": {
          "classes": [
            "However, we can provide type hints as we write python which will allow our editor to type check code as we go, even if it is not typically enforced at any point."
          ],
          "id": ""
        }
      }
    },
    {
      "id": "cell-30",
      "source": "<p>And here are some example invocations of that module, as found in <code class=\"language-plaintext highlighter-rouge\">test.py</code></p>\n",
      "cell_type": "markdown",
      "metadata": {
        "editable": false,
        "collapsed": false
      }
    },
    {
      "id": "cell-31",
      "source": [
        "from corp import *\n",
        "\n",
        "x = repeat(\"A\", 3) # Should return [\"A\", \"A\", \"A\"]\n",
        "y = print_capitalized(\"hElLo WorLd\") # Should print Hello World\n",
        "z = concatenate(\"Hi\", \"Bob\") # HiBob"
      ],
      "cell_type": "code",
      "execution_count": null,
      "outputs": [

      ],
      "metadata": {
        "attributes": {
          "classes": [
            "However, we can provide type hints as we write python which will allow our editor to type check code as we go, even if it is not typically enforced at any point."
          ],
          "id": ""
        }
      }
    },
    {
      "id": "cell-32",
      "source": "<blockquote class=\"hands_on\" style=\"border: 2px solid #dfe5f9; margin: 1em 0.2em\">\n<div class=\"box-title hands-on-title\" id=\"hands-on-add-type-annotations\"><i class=\"fas fa-pencil-alt\" aria-hidden=\"true\" ></i> Hands-on: Add type annotations</div>\n<ol>\n<li>Add type annotations to each of those functions AND the variables <code style=\"color: inherit\">x</code>, <code style=\"color: inherit\">y</code>, <code style=\"color: inherit\">z</code></li>\n<li>How did you know which types were appropriate?</li>\n<li>Does <code style=\"color: inherit\">mypy</code> approve of your annotations? (Run <code style=\"color: inherit\">mypy test.py</code>, once you’ve written the above files out to their appropriate locations.)</li>\n</ol>\n</blockquote>\n<br/><details style=\"border: 2px solid #B8C3EA; margin: 1em 0.2em;padding: 0.5em; cursor: pointer;\"><summary>👁 View solution</summary>\n<div class=\"box-title solution-title\" id=\"solution-3\"><button class=\"gtn-boxify-button solution\" type=\"button\" aria-controls=\"solution-3\" aria-expanded=\"true\"><i class=\"far fa-eye\" aria-hidden=\"true\" ></i> Solution<span class=\"fold-unfold fa fa-minus-square\"></span></button></div>\n<ol>\n<li>\n<p>The proper annotations:</p>\n<div class=\"language-plaintext highlighter-rouge\"><div><pre style=\"color: inherit; background: transparent\"><code style=\"color: inherit\">def repeat(x: str, n: int) -&gt; list[str]:\n# Or\nfrom typing import TypeVar\nT = TypeVar(\"T\")\ndef repeat(x: T, n: int) -&gt; list[T]:\n\ndef print_capitalized(x: str) -&gt; str:\n\ndef concatenate(x: str, y:str) -&gt; str:\n</code></pre></div>      </div>\n<p>and</p>\n<div class=\"language-plaintext highlighter-rouge\"><div><pre style=\"color: inherit; background: transparent\"><code style=\"color: inherit\">x: list[str] = ...\ny: str = ...\nz: str = ...\n</code></pre></div>      </div>\n</li>\n<li>You might have discovered this by a combination of looking at the function definitions and their documentation, and perhaps also the sample invocations and what types were passed there.</li>\n<li>We hope so!</li>\n</ol>\n</details>\n<h2 id=\"automation-with-monkeytype\">Automation with MonkeyType</h2>\n<p>You can use MonkeyType to automatically apply type annotations to your code. Based on the execution of the code, it will make a best guess about what types are supported.</p>\n<blockquote class=\"hands_on\" style=\"border: 2px solid #dfe5f9; margin: 1em 0.2em\">\n<div class=\"box-title hands-on-title\" id=\"hands-on-using-monkeytype-to-generate-automatic-annotations\"><i class=\"fas fa-pencil-alt\" aria-hidden=\"true\" ></i> Hands-on: Using MonkeyType to generate automatic annotations</div>\n<ol>\n<li>Create a folder for a module named <code style=\"color: inherit\">some</code></li>\n<li>Touch <code style=\"color: inherit\">some/__init__.py</code> to ensure it’s importable as a python module</li>\n<li>\n<p>Create <code style=\"color: inherit\">some/module.py</code> and add the following contents:</p>\n<div class=\"language-plaintext highlighter-rouge\"><div><pre style=\"color: inherit; background: transparent\"><code style=\"color: inherit\">def add(a, b):\n    return a + B\n</code></pre></div>      </div>\n</li>\n<li>\n<p>Create a script that uses that module:</p>\n<div class=\"language-plaintext highlighter-rouge\"><div><pre style=\"color: inherit; background: transparent\"><code style=\"color: inherit\">from some.module import add\n\nadd(1, 2)\n</code></pre></div>      </div>\n</li>\n<li><code style=\"color: inherit\">pip install monkeytype</code></li>\n<li>\n<p>Run MonkeyType to generate the annotations</p>\n<div class=\"language-console highlighter-rouge\"><div><pre style=\"color: inherit; background: transparent\"><code style=\"color: inherit\"><span class=\"go\">monkeytype run myscript.py\n</span></code></pre></div>      </div>\n</li>\n<li>\n<p>View the generated annotations</p>\n<div class=\"language-console highlighter-rouge\"><div><pre style=\"color: inherit; background: transparent\"><code style=\"color: inherit\"><span class=\"go\">monkeytype stub myscript.py\n</span></code></pre></div>      </div>\n</li>\n</ol>\n</blockquote>\n<blockquote class=\"question\" style=\"border: 2px solid #8A9AD0; margin: 1em 0.2em\">\n<div class=\"box-title question-title\" id=\"question-3\"><i class=\"far fa-question-circle\" aria-hidden=\"true\" ></i> Question</div>\n<ol>\n<li>What was the output of that command?</li>\n<li>This function will accept strings as well, add a statement to exercise that in <code style=\"color: inherit\">myscript.py</code> and re-run <code style=\"color: inherit\">monkeytype run</code> and <code style=\"color: inherit\">monkeytype stub</code>. What is the new output?</li>\n</ol>\n<br/><details style=\"border: 2px solid #B8C3EA; margin: 1em 0.2em;padding: 0.5em; cursor: pointer;\"><summary>👁 View solution</summary>\n<div class=\"box-title solution-title\" id=\"solution-4\"><button class=\"gtn-boxify-button solution\" type=\"button\" aria-controls=\"solution-4\" aria-expanded=\"true\"><i class=\"far fa-eye\" aria-hidden=\"true\" ></i> Solution<span class=\"fold-unfold fa fa-minus-square\"></span></button></div>\n<ol>\n<li>\n<p>The expected output is:</p>\n<div class=\"language-plaintext highlighter-rouge\"><div><pre style=\"color: inherit; background: transparent\"><code style=\"color: inherit\">def add(a: int, b: int) -&gt; int: ...\n</code></pre></div>        </div>\n</li>\n<li>\n<p>You can add a statement like <code style=\"color: inherit\">add(\"a\", \"b\")</code> below <code style=\"color: inherit\">add(1, 2)</code> to see:</p>\n<div class=\"language-plaintext highlighter-rouge\"><div><pre style=\"color: inherit; background: transparent\"><code style=\"color: inherit\">def add(a: Union[int, str], b: Union[int, str]) -&gt; Union[int, str]: ...\n</code></pre></div>        </div>\n</li>\n</ol>\n</blockquote>\n</blockquote>\n<blockquote class=\"question\" style=\"border: 2px solid #8A9AD0; margin: 1em 0.2em\">\n<div class=\"box-title question-title\" id=\"question-4\"><i class=\"far fa-question-circle\" aria-hidden=\"true\" ></i> Question</div>\n<p>Why is it different?</p>\n<br/><details style=\"border: 2px solid #B8C3EA; margin: 1em 0.2em;padding: 0.5em; cursor: pointer;\"><summary>👁 View solution</summary>\n<div class=\"box-title solution-title\" id=\"solution-5\"><button class=\"gtn-boxify-button solution\" type=\"button\" aria-controls=\"solution-5\" aria-expanded=\"true\"><i class=\"far fa-eye\" aria-hidden=\"true\" ></i> Solution<span class=\"fold-unfold fa fa-minus-square\"></span></button></div>\n<p>Because MonkeyType works by running the code provided (<code class=\"language-plaintext highlighter-rouge\">myscript.py</code>) and annotating based on what executions it saw. In the first invocation it had not seen any calls to <code style=\"color: inherit\">add()</code> with strings, so it only reported <code style=\"color: inherit\">int</code> as acceptable types. However, the second time it saw <code style=\"color: inherit\">str</code>s as well. Can you think of another type that would be supported by this operation, that was not caught? (list!)</p>\n</blockquote>\n</blockquote>\n<blockquote class=\"question\" style=\"border: 2px solid #8A9AD0; margin: 1em 0.2em\">\n<div class=\"box-title question-title\" id=\"question-5\"><i class=\"far fa-question-circle\" aria-hidden=\"true\" ></i> Question</div>\n<ol>\n<li>Does that type annotation make sense based on what you’ve learned today?</li>\n<li>Can you write a better type annoation based on what you know?</li>\n</ol>\n<br/><details style=\"border: 2px solid #B8C3EA; margin: 1em 0.2em;padding: 0.5em; cursor: pointer;\"><summary>👁 View solution</summary>\n<div class=\"box-title solution-title\" id=\"solution-6\"><button class=\"gtn-boxify-button solution\" type=\"button\" aria-controls=\"solution-6\" aria-expanded=\"true\"><i class=\"far fa-eye\" aria-hidden=\"true\" ></i> Solution<span class=\"fold-unfold fa fa-minus-square\"></span></button></div>\n<ol>\n<li>It works, but it’s not a great type annotation. Here the description looks like it can accept two <code style=\"color: inherit\">int</code>s and return a <code style=\"color: inherit\">str</code> which isn’t correct.</li>\n<li>\n<p>Here is a better type annotation</p>\n<div class=\"language-plaintext highlighter-rouge\"><div><pre style=\"color: inherit; background: transparent\"><code style=\"color: inherit\">from typing import TypeVar\nT = TypeVar(\"T\", int, str, list)\n\ndef add(a: T, b: T) -&gt; T:\n    return a + b\n</code></pre></div>        </div>\n</li>\n</ol>\n</blockquote>\n</blockquote>\n",
      "cell_type": "markdown",
      "metadata": {
        "editable": false,
        "collapsed": false
      }
    },
    {
      "cell_type": "markdown",
      "id": "final-ending-cell",
      "metadata": {
        "editable": false,
        "collapsed": false
      },
      "source": [
        "# Key Points\n\n",
        "- Typing improves the correctness and quality of your code\n",
        "- It can ensure that editor provided hints are better and more accurate.\n",
        "\n# Congratulations on successfully completing this tutorial!\n\n",
        "Please [fill out the feedback on the GTN website](https://training.galaxyproject.org/training-material/topics/data-science/tutorials/python-typing/tutorial.html#feedback) and check there for further resources!\n"
      ]
    }
  ]
}