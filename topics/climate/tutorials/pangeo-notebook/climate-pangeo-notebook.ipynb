{
  "metadata": {
  },
  "nbformat": 4,
  "nbformat_minor": 5,
  "cells": [
    {
      "id": "metadata",
      "cell_type": "markdown",
      "source": "<div style=\"border: 2px solid #8A9AD0; margin: 1em 0.2em; padding: 0.5em;\">\n\n# Pangeo Notebook in Galaxy - Introduction to Xarray\n\nby [Anne Fouilloux](https://training.galaxyproject.org/hall-of-fame/annefou/)\n\nCC-BY licensed content from the [Galaxy Training Network](https://training.galaxyproject.org/)\n\n**Objectives**\n\n- What is Pangeo notebook?\n- How to start Pangeo Notebook in Galaxy?\n- What are the main software components of the Pangeo ecosystem?\n- What is Xarray?\n- How to manipulate Xarrays?\n- How to print metadata information?\n- How to make a selection?\n- How to visualize?\n- How to filter?\n- How to make reduction operations (mean, max, min)?\n- How to resample my data?\n- Where to go next?\n\n**Objectives**\n\n- Learn to get metadata information using Xarray Galaxy Tools\n- Learn to select data\n- Learn to visualize data\n- Learn to filter, make reduction operations (mean, max, min)\n- Learn to resample my data\n- Learn to cite and contribute to Pangeo\n\n**Time Estimation: 1H**\n</div>\n",
      "metadata": {
        "editable": false,
        "collapsed": false
      }
    },
    {
      "id": "cell-0",
      "source": "<h1 id=\"introduction\">Introduction</h1>\n<p>In this tutorial, we will learn about <a href=\"https://xarray.pydata.org/\">Xarray</a>, one of the most used Python library from the <a href=\"https://pangeo.io/\">Pangeo</a> ecosystem.</p>\n<p>We will be using data from <a href=\"https://ads.atmosphere.copernicus.eu/\">Copernicus Atmosphere Monitoring Service</a>\nand more precisely PM2.5 (<a href=\"https://en.wikipedia.org/wiki/Particulates#Size,_shape_and_solubility_matter\">Particle Matter &lt; 2.5 μm</a>) 4 days forecast from December, 22 2021. Parallel data analysis with Pangeo is not covered in this tutorial.</p>\n<blockquote class=\"comment\" style=\"border: 2px solid #ffecc1; margin: 1em 0.2em\">\n<div class=\"box-title comment-title\" id=\"comment-remark\"><i class=\"far fa-comment-dots\" aria-hidden=\"true\" ></i> Comment: Remark</div>\n<p>This tutorial uses data on a regular latitude-longitude grid. More complex and irregular grids are not discussed in this tutorial. In addition,\nthis tutorial is not meant to cover all the different possibilities offered by Xarrays but shows functionalities we find useful for day to day\nanalysis.</p>\n</blockquote>\n<blockquote class=\"agenda\" style=\"border: 2px solid #86D486;display: none; margin: 1em 0.2em\">\n<div class=\"box-title agenda-title\" id=\"agenda\">Agenda</div>\n<p>In this tutorial, we will cover:</p>\n<ol id=\"markdown-toc\">\n<li><a href=\"#introduction\" id=\"markdown-toc-introduction\">Introduction</a></li>\n<li><a href=\"#analysis\" id=\"markdown-toc-analysis\">Analysis</a>    <ol>\n<li><a href=\"#import-python-packages\" id=\"markdown-toc-import-python-packages\">Import Python packages</a></li>\n</ol>\n</li>\n</ol>\n</blockquote>\n<h1 id=\"analysis\">Analysis</h1>\n<h2 id=\"import-python-packages\">Import Python packages</h2>\n<p>Some packages may need to be installed first. For example <code style=\"color: inherit\">cmcrameri</code> is missing, so we need to install it by entering the following command in a new cell of your Jupyter Notebook:</p>\n",
      "cell_type": "markdown",
      "metadata": {
        "editable": false,
        "collapsed": false
      }
    },
    {
      "id": "cell-1",
      "source": [
        "pip install cmcrameri"
      ],
      "cell_type": "code",
      "execution_count": null,
      "outputs": [

      ],
      "metadata": {
        "attributes": {
          "classes": [
            ""
          ],
          "id": ""
        }
      }
    },
    {
      "id": "cell-2",
      "source": "<p>Then we need to import all the necessary packages in our Jupyter Notebook.</p>\n",
      "cell_type": "markdown",
      "metadata": {
        "editable": false,
        "collapsed": false
      }
    },
    {
      "id": "cell-3",
      "source": [
        "import numpy as np\n",
        "import xarray as xr\n",
        "import cartopy.crs as ccrs\n",
        "import matplotlib.pyplot as plt\n",
        "import cmcrameri.cm as cmc\n",
        "import pandas as pd"
      ],
      "cell_type": "code",
      "execution_count": null,
      "outputs": [

      ],
      "metadata": {
        "attributes": {
          "classes": [
            ""
          ],
          "id": ""
        }
      }
    },
    {
      "id": "cell-4",
      "source": "<h2 id=\"open-and-read-metadata\">Open and read metadata</h2>\n<p>The netCDF dataset can now be opened with Xarray:</p>\n",
      "cell_type": "markdown",
      "metadata": {
        "editable": false,
        "collapsed": false
      }
    },
    {
      "id": "cell-5",
      "source": [
        "dset = xr.open_dataset(\"data/CAMS-PM2_5-20211222.netcdf\")"
      ],
      "cell_type": "code",
      "execution_count": null,
      "outputs": [

      ],
      "metadata": {
        "attributes": {
          "classes": [
            ""
          ],
          "id": ""
        }
      }
    },
    {
      "id": "cell-6",
      "source": "<p>Once opened, we can get metadata using <code style=\"color: inherit\">print</code> statement.</p>\n",
      "cell_type": "markdown",
      "metadata": {
        "editable": false,
        "collapsed": false
      }
    },
    {
      "id": "cell-7",
      "source": [
        "print(dset)"
      ],
      "cell_type": "code",
      "execution_count": null,
      "outputs": [

      ],
      "metadata": {
        "attributes": {
          "classes": [
            ""
          ],
          "id": ""
        }
      }
    },
    {
      "id": "cell-8",
      "source": "<p>Below is what you should get if everything goes fine.</p>\n<blockquote class=\"code-out\" style=\"border: 2px solid #fb99d0; margin: 1em 0.2em\">\n<div class=\"box-title code-out-title\" id=\"code-out\"><i class=\"fas fa-laptop-code\" aria-hidden=\"true\" ></i> Output</div>\n<div class=\"language-plaintext highlighter-rouge\"><div><pre style=\"color: inherit; background: transparent\"><code style=\"color: inherit\"> &lt;xarray.Dataset&gt;\n Dimensions:     (longitude: 700, latitude: 400, level: 1, time: 97)\n Coordinates:\n   * longitude   (longitude) float32 -24.95 -24.85 -24.75 ... 44.75 44.85 44.95\n   * latitude    (latitude) float32 69.95 69.85 69.75 69.65 ... 30.25 30.15 30.05\n   * level       (level) float32 0.0\n   * time        (time) timedelta64[ns] 00:00:00 01:00:00 ... 4 days 00:00:00\nData variables:\n  pm2p5_conc  (time, level, latitude, longitude) float32 0.4202 ... 7.501\nAttributes:\n  title:        PM25 Air Pollutant FORECAST at the Surface\n  institution:  Data produced by Meteo France\n  source:       Data from ENSEMBLE model\n  history:      Model ENSEMBLE FORECAST\n  FORECAST:     Europe, 20211222+[0H_96H]\n  summary:      ENSEMBLE model hourly FORECAST of PM25 concentration at the...\n  project:      MACC-RAQ (http://macc-raq.gmes-atmosphere.eu)\n</code></pre></div>  </div>\n</blockquote>\n<blockquote class=\"tip\" style=\"border: 2px solid #FFE19E; margin: 1em 0.2em\">\n<div class=\"box-title tip-title\" id=\"tip-command-not-found\"><button class=\"gtn-boxify-button tip\" type=\"button\" aria-controls=\"tip-command-not-found\" aria-expanded=\"true\"><i class=\"far fa-lightbulb\" aria-hidden=\"true\" ></i> Tip: Command not found<span class=\"fold-unfold fa fa-minus-square\"></span></button></div>\n<p>If you get an error with the previous command, first check the location of the input file <code style=\"color: inherit\">CAMS-PM2_5-20211222.netcdf</code>:\nit needs to be in the same directory as your Jupyter Notebook.</p>\n</blockquote>\n<p>We can identify 4 different sections:</p>\n<ol>\n<li><strong>Dimensions</strong>: name of dimensions and corresponding number of elements;</li>\n<li><strong>Coordinates</strong>: contains coordinate arrays (longitude, latitude, level and time) with their values.</li>\n<li><strong>Data variables</strong>: contains all the variables available in the dataset. Here, we only have one variable. For each variable, we get information on its shape and values.</li>\n<li><strong>Attributes</strong>: at this level, we get all the attributes of the dataset.</li>\n</ol>\n<p>We can also get metadata information for each coordinate and data variables using “.” followed by the coordinate or data variable name.</p>\n",
      "cell_type": "markdown",
      "metadata": {
        "editable": false,
        "collapsed": false
      }
    },
    {
      "id": "cell-9",
      "source": [
        "print(dset.time)"
      ],
      "cell_type": "code",
      "execution_count": null,
      "outputs": [

      ],
      "metadata": {
        "attributes": {
          "classes": [
            ""
          ],
          "id": ""
        }
      }
    },
    {
      "id": "cell-10",
      "source": "<blockquote class=\"question\" style=\"border: 2px solid #8A9AD0; margin: 1em 0.2em\">\n<div class=\"box-title question-title\" id=\"question-cam-pm2-5-dataset\"><i class=\"far fa-question-circle\" aria-hidden=\"true\" ></i> Question: CAM PM2.5 Dataset</div>\n<p>What is the name of the variable for Particle matter &lt; 2.5 μm and its physical units?</p>\n<br/><details style=\"border: 2px solid #B8C3EA; margin: 1em 0.2em;padding: 0.5em; cursor: pointer;\"><summary>👁 View solution</summary>\n<div class=\"box-title solution-title\" id=\"solution\"><button class=\"gtn-boxify-button solution\" type=\"button\" aria-controls=\"solution\" aria-expanded=\"true\"><i class=\"far fa-eye\" aria-hidden=\"true\" ></i> Solution<span class=\"fold-unfold fa fa-minus-square\"></span></button></div>\n<ol>\n<li>To get metadata information from <code style=\"color: inherit\">pm2p5_conc</code> Data variable, we use its variable name and print it. Printing it will only print metadata, not the values.\n<ul>\n<li>Variable name: <code style=\"color: inherit\">mass_concentration_of_pm2p5_ambient_aerosol_in_air</code></li>\n<li>Units: <code style=\"color: inherit\">µg/m3</code></li>\n</ul>\n</li>\n</ol>\n<blockquote class=\"code-in\" style=\"border: 2px solid #86D486; margin: 1em 0.2em\">\n<div class=\"box-title code-in-title\" id=\"code-in-python\"><i class=\"far fa-keyboard\" aria-hidden=\"true\" ></i> Input: Python</div>\n<div class=\"language-plaintext highlighter-rouge\"><div><pre style=\"color: inherit; background: transparent\"><code style=\"color: inherit\">print(dset.pm2p5_conc)\n</code></pre></div>      </div>\n</details>\n<blockquote class=\"code-out\" style=\"border: 2px solid #fb99d0; margin: 1em 0.2em\">\n<div class=\"box-title code-out-title\" id=\"code-out-1\"><i class=\"fas fa-laptop-code\" aria-hidden=\"true\" ></i> Output</div>\n<div class=\"language-plaintext highlighter-rouge\"><div><pre style=\"color: inherit; background: transparent\"><code style=\"color: inherit\">   &lt;xarray.DataArray 'pm2p5_conc' (time: 97, level: 1, latitude: 400, longitude: 700)&gt;\n   [27160000 values with dtype=float32]\n   Coordinates:\n     * longitude  (longitude) float32 335.0 335.1 335.2 335.4 ... 44.75 44.85 44.95\n     * latitude   (latitude) float32 69.95 69.85 69.75 69.65 ... 30.25 30.15 30.05\n     * level      (level) float32 0.0\n     * time       (time) timedelta64[ns] 00:00:00 01:00:00 ... 4 days 00:00:00\n   Attributes:\n       species:        PM2.5 Aerosol\n       units:          µg/m3\n       value:          hourly values\n       standard_name:  mass_concentration_of_pm2p5_ambient_aerosol_in_air\n</code></pre></div>      </div>\n</blockquote>\n</blockquote>\n</blockquote>\n<blockquote class=\"comment\" style=\"border: 2px solid #ffecc1; margin: 1em 0.2em\">\n<div class=\"box-title comment-title\" id=\"comment-different-ways-to-access-data-variables\"><i class=\"far fa-comment-dots\" aria-hidden=\"true\" ></i> Comment: Different ways to access Data variables</div>\n<p>To access a variable or coordinate, we can use “.” or specify its name as a string between squared brackets “[” “]”. For example:</p>\n<div class=\"language-plaintext highlighter-rouge\"><div><pre style=\"color: inherit; background: transparent\"><code style=\"color: inherit\">print(dset['pm2p5_conc'])\n# or alternatively\nprint(dset.pm2p5_conc)\n</code></pre></div>  </div>\n<p>When we print a variable or coordinate, we do not get all the individual values but a <code style=\"color: inherit\">DataArray</code> that contains a lot of very useful metadata such as coordinates (if they have some), all the attributes such as the name, the physical units, etc.</p>\n</blockquote>\n<h2 id=\"select--subset-from-coordinates\">Select / Subset from coordinates</h2>\n<p>We often want to select elements from the coordinates for instance to subset a geographical area or select specific times or a specific time range.</p>\n<p>There are two different ways to make a selection:</p>\n<ul>\n<li>by index</li>\n<li>by value</li>\n</ul>\n<h3 id=\"select-elements-from-coordinate-by-index\">Select elements from coordinate by index</h3>\n",
      "cell_type": "markdown",
      "metadata": {
        "editable": false,
        "collapsed": false
      }
    },
    {
      "id": "cell-11",
      "source": [
        "print(dset.isel(time=0))"
      ],
      "cell_type": "code",
      "execution_count": null,
      "outputs": [

      ],
      "metadata": {
        "attributes": {
          "classes": [
            ""
          ],
          "id": ""
        }
      }
    },
    {
      "id": "cell-12",
      "source": "<p>You should see that the coordinate <code style=\"color: inherit\">time</code> “disappeared” from the <code style=\"color: inherit\">Dimensions</code> and now the variable <code style=\"color: inherit\">pm2p5_conc</code> is a 3D field with longitude, latitude and level.</p>\n<h3 id=\"select-elements-from-coordinates-by-value\">Select elements from coordinates by value</h3>\n<p>When selecting elements by the value of the coordinate, we need to use the same datatype. For instance, to select an element from\n<code class=\"language-plaintext highlighter-rouge\">time</code>, we need to use <code style=\"color: inherit\">timedelta64</code>. The code below will give the same result as <code style=\"color: inherit\">isel(time=0)</code>.</p>\n",
      "cell_type": "markdown",
      "metadata": {
        "editable": false,
        "collapsed": false
      }
    },
    {
      "id": "cell-13",
      "source": [
        "print(dset.sel(time=np.timedelta64(0)))"
      ],
      "cell_type": "code",
      "execution_count": null,
      "outputs": [

      ],
      "metadata": {
        "attributes": {
          "classes": [
            ""
          ],
          "id": ""
        }
      }
    },
    {
      "id": "cell-14",
      "source": "<p>The output will be very similar to what we did previously when selecting from coordinates by index.</p>\n<blockquote class=\"question\" style=\"border: 2px solid #8A9AD0; margin: 1em 0.2em\">\n<div class=\"box-title question-title\" id=\"question-select-a-single-time-for-pm2-5\"><i class=\"far fa-question-circle\" aria-hidden=\"true\" ></i> Question: Select a single time for PM2.5</div>\n<p>How to select the forecast for December, 24th 2021 at 12:00 UTC?</p>\n<br/><details style=\"border: 2px solid #B8C3EA; margin: 1em 0.2em;padding: 0.5em; cursor: pointer;\"><summary>👁 View solution</summary>\n<div class=\"box-title solution-title\" id=\"solution-1\"><button class=\"gtn-boxify-button solution\" type=\"button\" aria-controls=\"solution-1\" aria-expanded=\"true\"><i class=\"far fa-eye\" aria-hidden=\"true\" ></i> Solution<span class=\"fold-unfold fa fa-minus-square\"></span></button></div>\n<p>Data starts on December, 22nd 2021 at 00:00 UTC so we need to add 2 days and 12 hours to select the correct time index.</p>\n<blockquote class=\"code-in\" style=\"border: 2px solid #86D486; margin: 1em 0.2em\">\n<div class=\"box-title code-in-title\" id=\"code-in-python-1\"><i class=\"far fa-keyboard\" aria-hidden=\"true\" ></i> Input: Python</div>\n<div class=\"language-plaintext highlighter-rouge\"><div><pre style=\"color: inherit; background: transparent\"><code style=\"color: inherit\">print(dset.sel(time=(np.timedelta64(2,'D')+ np.timedelta64(12,'h'))))\n</code></pre></div>      </div>\n</details>\n<blockquote class=\"code-out\" style=\"border: 2px solid #fb99d0; margin: 1em 0.2em\">\n<div class=\"box-title code-out-title\" id=\"code-out-2\"><i class=\"fas fa-laptop-code\" aria-hidden=\"true\" ></i> Output</div>\n<div class=\"language-plaintext highlighter-rouge\"><div><pre style=\"color: inherit; background: transparent\"><code style=\"color: inherit\">&lt;xarray.Dataset&gt;\nDimensions:     (longitude: 700, latitude: 400, level: 1)\nCoordinates:\n  * longitude   (longitude) float32 -24.95 -24.85 -24.75 ... 44.75 44.85 44.95\n  * latitude    (latitude) float32 69.95 69.85 69.75 69.65 ... 30.25 30.15 30.05\n  * level       (level) float32 0.0\n    time        timedelta64[ns] 2 days 12:00:00\nData variables:\n    pm2p5_conc  (level, latitude, longitude) float32 0.4499 0.4421 ... 10.71\nAttributes:\n    title:        PM25 Air Pollutant FORECAST at the Surface\n    institution:  Data produced by Meteo France\n    source:       Data from ENSEMBLE model\n    history:      Model ENSEMBLE FORECAST\n    FORECAST:     Europe, 20211222+[0H_96H]\n    summary:      ENSEMBLE model hourly FORECAST of PM25 concentration at the...\n    project:      MACC-RAQ (http://macc-raq.gmes-atmosphere.eu)\n</code></pre></div>      </div>\n</blockquote>\n</blockquote>\n</blockquote>\n<h2 id=\"plotting\">Plotting</h2>\n<p>To plot a map, you need to select a variable with data on geographical coordinates (latitude, longitude). In addition, coordinates need to be sorted, and preferably in increasing order. This is not the case for the coordinate “longitude” which is given between 360 and 0.</p>\n<p>Let’s shift the longitudes by 180 degrees so that they come in the range of -180 to 180.</p>\n<h3 id=\"shift-longitudes\">Shift longitudes</h3>\n<p>We print the longitudes before and after shifting them so we can see what is happening.</p>\n",
      "cell_type": "markdown",
      "metadata": {
        "editable": false,
        "collapsed": false
      }
    },
    {
      "id": "cell-15",
      "source": [
        "print(dset.longitude)"
      ],
      "cell_type": "code",
      "execution_count": null,
      "outputs": [

      ],
      "metadata": {
        "attributes": {
          "classes": [
            ""
          ],
          "id": ""
        }
      }
    },
    {
      "id": "cell-16",
      "source": "<p>The longitude values are between <code style=\"color: inherit\">335.05</code> and <code style=\"color: inherit\">44.95</code> degrees.</p>\n<p>Let’s now shift the longitudes to get values between <code style=\"color: inherit\">-180</code>, <code style=\"color: inherit\">180</code> degrees.</p>\n",
      "cell_type": "markdown",
      "metadata": {
        "editable": false,
        "collapsed": false
      }
    },
    {
      "id": "cell-17",
      "source": [
        "dset.coords['longitude'] = (dset['longitude'] + 180) % 360 - 180\n",
        "print(dset.longitude)"
      ],
      "cell_type": "code",
      "execution_count": null,
      "outputs": [

      ],
      "metadata": {
        "attributes": {
          "classes": [
            ""
          ],
          "id": ""
        }
      }
    },
    {
      "id": "cell-18",
      "source": "<p>Indeed, the longitudes have been shifted and now the values are between <code style=\"color: inherit\">-24.95</code> and <code style=\"color: inherit\">44.95</code>.</p>\n<h3 id=\"visualize-on-a-map-pm25-for-december-24th-2021-at-1200-utc\">Visualize on a map PM2.5 for December, 24th 2021 at 12:00 UTC</h3>\n",
      "cell_type": "markdown",
      "metadata": {
        "editable": false,
        "collapsed": false
      }
    },
    {
      "id": "cell-19",
      "source": [
        "dset.sel(time=(np.timedelta64(2,'D')+ np.timedelta64(12,'h'))).pm2p5_conc.plot()"
      ],
      "cell_type": "code",
      "execution_count": null,
      "outputs": [

      ],
      "metadata": {
        "attributes": {
          "classes": [
            ""
          ],
          "id": ""
        }
      }
    },
    {
      "id": "cell-20",
      "source": "<p>We will get a figure like the one below:</p>\n<p><img src=\"../../images/PM2_5_default.png\" alt=\"CAMS PM2.5 December, 24th 2021 at 12:00 UTC. \" width=\"432\" height=\"288\" loading=\"lazy\" /></p>\n<blockquote class=\"comment\" style=\"border: 2px solid #ffecc1; margin: 1em 0.2em\">\n<div class=\"box-title comment-title\" id=\"comment-what-about-code-style-quot-color-inherit-quot-level-code\"><i class=\"far fa-comment-dots\" aria-hidden=\"true\" ></i> Comment: What about <code style=&quot;color: inherit&quot;>level</code></div>\n<p>Note that in the previous plot, we did not need to select <code style=\"color: inherit\">level</code> because there is one value only. However, if we had more than one level, we would need to add a selection on the level before plotting</p>\n</blockquote>\n<h3 id=\"customize-your-plot\">Customize your plot</h3>\n<p>There are many ways to customize your plots and we will only detail what we think is important for creating publication ready figures:</p>\n<ul>\n<li>Define the size of the figure</li>\n<li>Choose to project data on a different projection.</li>\n<li>Add coastline</li>\n<li>Set the min and max values for plotting</li>\n<li>Add a title, change colorbar title</li>\n<li>Save figure into png</li>\n</ul>\n",
      "cell_type": "markdown",
      "metadata": {
        "editable": false,
        "collapsed": false
      }
    },
    {
      "id": "cell-21",
      "source": [
        "fig = plt.figure(1, figsize=[15,10])\n",
        "\n",
        "# We're using cartopy to project our data.\n",
        "# (see documentation on cartopy)\n",
        "ax = plt.subplot(1, 1, 1, projection=ccrs.Mercator())\n",
        "ax.coastlines(resolution='10m')\n",
        "\n",
        "# We need to project our data to the new projection and for this we use `transform`.\n",
        "# we set the original data projection in transform (here PlateCarree)\n",
        "dset.sel(time=(np.timedelta64(2,'D') + np.timedelta64(12,'h')))['pm2p5_conc'].plot(ax=ax,\n",
        "                                                                                    transform=ccrs.PlateCarree(),\n",
        "                                                                                    vmin = 0, vmax = 35,\n",
        "                                                                                    cmap=cmc.roma_r)\n",
        "# One way to customize your title\n",
        "plt.title(\"Copernicus Atmosphere Monitoring Service PM2.5, 2 day forecasts\\n 24th December 2021 at 12:00 UTC\", fontsize=18)\n",
        "plt.savefig(\"CAMS-PM2_5-fc-20211224.png\")"
      ],
      "cell_type": "code",
      "execution_count": null,
      "outputs": [

      ],
      "metadata": {
        "attributes": {
          "classes": [
            ""
          ],
          "id": ""
        }
      }
    },
    {
      "id": "cell-22",
      "source": "<p>And you should get the following plot:</p>\n<p><img src=\"../../images/CAMS-PM2_5-fc-20211224.png\" alt=\"Customized plot for CAMS PM2.5 December, 24th 2021 at 12:00 UTC. \" width=\"1080\" height=\"720\" loading=\"lazy\" /></p>\n<h3 id=\"multi-plots\">Multi-plots</h3>\n<p>Now, we will plot several times on the same figure in different sub-plots; we will not plot all the times (too many) but the first 24 forecasted values.</p>\n<p>Firstly, we need to create a list of times and convert it to <code style=\"color: inherit\">pandas datetime</code> in order to make it easier to format times when plotting:</p>\n",
      "cell_type": "markdown",
      "metadata": {
        "editable": false,
        "collapsed": false
      }
    },
    {
      "id": "cell-23",
      "source": [
        "list_times = np.datetime64('2021-12-22') + dset.time.sel(time=slice(np.timedelta64(0),np.timedelta64(1,'D')))\n",
        "print(pd.to_datetime(list_times).strftime(\"%d %b %H:%S UTC\"))"
      ],
      "cell_type": "code",
      "execution_count": null,
      "outputs": [

      ],
      "metadata": {
        "attributes": {
          "classes": [
            ""
          ],
          "id": ""
        }
      }
    },
    {
      "id": "cell-24",
      "source": "<p>Secondly, we need to use the same plotting method as earlier, but we pass additional parameters:</p>\n<ul>\n<li><code style=\"color: inherit\">vmin = 0</code>and <code style=\"color: inherit\">vmax = 35</code> to set the minimum and maximum values when plotting (this is useful to highlight features in your plot)</li>\n<li><code style=\"color: inherit\">subplot_kws={\"projection\": proj_plot}</code> to project data on a non-default projection. See <a href=\"https://scitools.org.uk/cartopy/docs/v0.15/crs/projections.html\">cartopy projection</a> for more information about projections.</li>\n<li><code style=\"color: inherit\">col='time'</code> because we will plot several <code style=\"color: inherit\">time</code>;</li>\n<li><code style=\"color: inherit\">col_wrap=4</code> to have a maximum of 4 plots per row. If we have more times to plot, then the next figures will be on another row.</li>\n<li><code style=\"color: inherit\">robust=True</code> and <code style=\"color: inherit\">aspect=dset.dims[\"longitude\"] / dset.dims[\"latitude\"]</code> are additional parameters to make each subplot with a “sensible” figsize.</li>\n<li><code style=\"color: inherit\">cmap=cmc.roma_r</code> to select a non-default and color-blind friendly colormap (see <a href=\"https://www.fabiocrameri.ch/colourmaps/\">scientific colormaps</a>).</li>\n</ul>\n",
      "cell_type": "markdown",
      "metadata": {
        "editable": false,
        "collapsed": false
      }
    },
    {
      "id": "cell-25",
      "source": [
        "fig = plt.figure(1, figsize=[10,10])\n",
        "\n",
        "# We're using cartopy to project our data.\n",
        "# (see documentation on cartopy)\n",
        "proj_plot = ccrs.Mercator()\n",
        "\n",
        "# We need to project our data to the new projection and for this we use `transform`.\n",
        "# we set the original data projection in transform (here PlateCarree)\n",
        "p = dset.sel(time=slice(np.timedelta64(1,'h'),np.timedelta64(1,'D')))['pm2p5_conc'].plot(transform=ccrs.PlateCarree(),\n",
        "                                                                                       vmin = 0, vmax = 35,\n",
        "                                                                                       subplot_kws={\"projection\": proj_plot},\n",
        "                                                                                       col='time', col_wrap=4,\n",
        "                                                                                       robust=True,\n",
        "                                                                                      aspect=dset.dims[\"longitude\"] / dset.dims[\"latitude\"],  # for a sensible figsize\n",
        "                                                                                       cmap=cmc.roma_r)\n",
        "# We have to set the map's options on our axes\n",
        "for ax,i in zip(p.axes.flat,  (np.datetime64('2021-12-22') + dset.time.sel(time=slice(np.timedelta64(0),np.timedelta64(1,'D')))).values):\n",
        "      ax.coastlines('10m')\n",
        "      ax.set_title(\"CAMS PM2.5 \" + pd.to_datetime(i).strftime(\"%d %b %H:%S UTC\"), fontsize=12)\n",
        "# Save your figure\n",
        "plt.savefig(\"CAMS-PM2_5-fc-multi.png\")"
      ],
      "cell_type": "code",
      "execution_count": null,
      "outputs": [

      ],
      "metadata": {
        "attributes": {
          "classes": [
            ""
          ],
          "id": ""
        }
      }
    },
    {
      "id": "cell-26",
      "source": "<p>In the second part of our plot, we are going to customize each subplot (this is why we loop for each of them and get their axes) by adding:</p>\n<ul>\n<li><code style=\"color: inherit\">coastlines</code>: we pass a parameter <code style=\"color: inherit\">10m</code> to get coastlines with a high resolution (non-default);</li>\n<li><code style=\"color: inherit\">set_title</code> to set a title for each subplot.</li>\n</ul>\n<p><img src=\"../../images/CAMS-PM2_5-fc-multi.png\" alt=\"Customized multi-plot. \" width=\"1584\" height=\"1296\" loading=\"lazy\" /></p>\n<blockquote class=\"question\" style=\"border: 2px solid #8A9AD0; margin: 1em 0.2em\">\n<div class=\"box-title question-title\" id=\"question-pm2-5-over-italy\"><i class=\"far fa-question-circle\" aria-hidden=\"true\" ></i> Question: PM2.5 over Italy</div>\n<p>Using a Multi-plot between Rome and Naples, can you tell us if the forecasted PM2.5 will increase or decrease during the first 24 hours?</p>\n<br/><details style=\"border: 2px solid #B8C3EA; margin: 1em 0.2em;padding: 0.5em; cursor: pointer;\"><summary>👁 View solution</summary>\n<div class=\"box-title solution-title\" id=\"solution-2\"><button class=\"gtn-boxify-button solution\" type=\"button\" aria-controls=\"solution-2\" aria-expanded=\"true\"><i class=\"far fa-eye\" aria-hidden=\"true\" ></i> Solution<span class=\"fold-unfold fa fa-minus-square\"></span></button></div>\n<p>We will select a sub-area: 11. East to 15.0 East and 40. N to 43. N. PM2.5 will increase and reach values close to 35 μm.m-3.\nWe will use <code style=\"color: inherit\">slice</code> to select the area and we slice latitudes with <code style=\"color: inherit\">latitude=slice(47.3, 36.5)</code> and not <code style=\"color: inherit\">latitude=slice(36.5, 47.3)</code>.\nThe reason is that when using slice, you need to specify values using the same order as in the coordinates. Latitudes are specified in\ndecreasing order for CAMS.</p>\n<blockquote class=\"code-in\" style=\"border: 2px solid #86D486; margin: 1em 0.2em\">\n<div class=\"box-title code-in-title\" id=\"code-in-python-2\"><i class=\"far fa-keyboard\" aria-hidden=\"true\" ></i> Input: Python</div>\n<div class=\"language-plaintext highlighter-rouge\"><div><pre style=\"color: inherit; background: transparent\"><code style=\"color: inherit\">fig = plt.figure(1, figsize=[10,10])\n\n# We're using cartopy to project our data.\n# (see documentation on cartopy)\nproj_plot = ccrs.Mercator()\n\n# We need to project our data to the new projection and for this we use &lt;code&gt;transform&lt;/code&gt;.\n# we set the original data projection in transform (here PlateCarree)\np = dset.sel(time=slice(np.timedelta64(1,'h'),np.timedelta64(1,'D'))).sel(latitude=slice(43., 40.),\n                                                                          longitude=slice(11.,15.))['pm2p5_conc'].plot(transform=ccrs.PlateCarree(),\n                                                                                     vmin = 0, vmax = 35,\n                                                                                     subplot_kws={\"projection\": proj_plot},\n                                                                                     col='time', col_wrap=4,\n                                                                                     robust=True,\n                                                                                     aspect=dset.dims[\"longitude\"] / dset.dims[\"latitude\"],  # for a sensible figsize\n                                                                                     cmap=cmc.roma_r)\n# We have to set the map's options on all axes\nfor ax,i in zip(p.axes.flat,  (np.datetime64('2021-12-22') + dset.time.sel(time=slice(np.timedelta64(0),np.timedelta64(1,'D')))).values):\n    ax.coastlines('10m')\n    ax.set_title(\"CAMS PM2.5 \" + pd.to_datetime(i).strftime(\"%d %b %H:%S UTC\"), fontsize=12)\n# Save your figure\nplt.savefig(\"CAMS-PM2_5-fc-multi-Italy.png\")\n</code></pre></div>      </div>\n</details>\n<p><img src=\"../../images/CAMS-PM2_5-fc-multi-Italy.png\" alt=\"PM2.5 over Italy. \" width=\"1584\" height=\"1296\" loading=\"lazy\" /></p>\n</blockquote>\n</blockquote>\n<h2 id=\"how-to-use-the-where-method\">How to use the <strong>where</strong> method</h2>\n<p>Sometimes we may want to make more complex selections with criteria on the values of a given variable and not only on its coordinates. For this purpose,  we use the <code style=\"color: inherit\">where</code> method. For instance, we may want to only keep PM2.5 if values are greater than 25 μm.m-3 (or any threshold you would like to choose).</p>\n<h3 id=\"mask-values-that-do-not-meet-a-criteria-with-where\">Mask values that do not meet a criteria with <code class=\"language-plaintext highlighter-rouge\">Where</code></h3>\n",
      "cell_type": "markdown",
      "metadata": {
        "editable": false,
        "collapsed": false
      }
    },
    {
      "id": "cell-27",
      "source": [
        "print(dset.where(dset['pm2p5_conc'] > 25))"
      ],
      "cell_type": "code",
      "execution_count": null,
      "outputs": [

      ],
      "metadata": {
        "attributes": {
          "classes": [
            ""
          ],
          "id": ""
        }
      }
    },
    {
      "id": "cell-28",
      "source": "<blockquote class=\"comment\" style=\"border: 2px solid #ffecc1; margin: 1em 0.2em\">\n<div class=\"box-title comment-title\" id=\"comment-what-happened\"><i class=\"far fa-comment-dots\" aria-hidden=\"true\" ></i> Comment: What happened?</div>\n<p>Each element of the dataset where the criteria within the <code style=\"color: inherit\">where</code> statement is not met, e.g. when PM2.5 &lt;= 25, will be set to <code style=\"color: inherit\">nan</code>.\nYou may not see any changes when printing the dataset but if you look carefuly at <code style=\"color: inherit\">pm2p5_conc</code> values, you will see many <code style=\"color: inherit\">nan</code>.</p>\n</blockquote>\n<p>Let’s plot one time to better see what happened:</p>\n",
      "cell_type": "markdown",
      "metadata": {
        "editable": false,
        "collapsed": false
      }
    },
    {
      "id": "cell-29",
      "source": [
        "######################\n",
        "# Plotting with mask #\n",
        "######################\n",
        "\n",
        "fig = plt.figure(1, figsize=[15,10])\n",
        "\n",
        "# We're using cartopy to project our data.\n",
        "# (see documentation on cartopy)\n",
        "ax = plt.subplot(1, 1, 1, projection=ccrs.Mercator())\n",
        "ax.coastlines(resolution='10m')\n",
        "\n",
        "# We need to project our data to the new projection and for this we use `transform`.\n",
        "# we set the original data projection in transform (here PlateCarree)\n",
        "dset.where(dset['pm2p5_conc'] > 25).isel(time=0)['pm2p5_conc'].plot(ax=ax,\n",
        "                                                                     transform=ccrs.PlateCarree(),\n",
        "                                                                     vmin = 0, vmax = 35,\n",
        "                                                                     cmap=cmc.roma_r)\n",
        "# One way to customize your title\n",
        "plt.title(\"Copernicus Atmosphere Monitoring Service PM2.5, 2 day forecasts\\n 24th December 2021 at 12:00 UTC\\n only values > 25\", fontsize=18)\n",
        "plt.savefig(\"CAMS-PM2_5-fc-20211224-25.png\")"
      ],
      "cell_type": "code",
      "execution_count": null,
      "outputs": [

      ],
      "metadata": {
        "attributes": {
          "classes": [
            ""
          ],
          "id": ""
        }
      }
    },
    {
      "id": "cell-30",
      "source": "<p><img src=\"../../images/CAMS-PM2_5-fc-20211224-25.png\" alt=\"PM2.5 over Italy with threshold at 25. \" width=\"1080\" height=\"720\" loading=\"lazy\" /></p>\n<p>We can then make the same multi-plot as earlier (over Italy) but with a <code style=\"color: inherit\">where</code> statement to mask values lower than 25 μm.m-3:</p>\n<h3 id=\"multi-plot-over-italy-using-a-mask\">Multi-plot over Italy using a mask</h3>\n",
      "cell_type": "markdown",
      "metadata": {
        "editable": false,
        "collapsed": false
      }
    },
    {
      "id": "cell-31",
      "source": [
        "fig = plt.figure(1, figsize=[10,10])\n",
        "\n",
        "# We're using cartopy to project our data.\n",
        "# (see documentation on cartopy)\n",
        "proj_plot = ccrs.Mercator()\n",
        "\n",
        "# We need to project our data to the new projection and for this we use `transform`.\n",
        "# we set the original data projection in transform (here PlateCarree)\n",
        "p = dset.where(dset['pm2p5_conc'] > 25).sel(time=slice(np.timedelta64(1,'h'),np.timedelta64(1,'D'))).sel(latitude=slice(43., 40.),\n",
        "                                                                           longitude=slice(11.,15.))['pm2p5_conc'].plot(transform=ccrs.PlateCarree(),\n",
        "                                                                                      vmin = 0, vmax = 35,\n",
        "                                                                                     subplot_kws={\"projection\": proj_plot},\n",
        "                                                                                     col='time', col_wrap=4,\n",
        "                                                                                     robust=True,\n",
        "                                                                                     aspect=dset.dims[\"longitude\"] / dset.dims[\"latitude\"],  # for a sensible figsize\n",
        "                                                                                     cmap=cmc.roma_r)\n",
        "# We have to set the map's options on all four axes\n",
        "for ax,i in zip(p.axes.flat,  (np.datetime64('2021-12-22') + dset.time.sel(time=slice(np.timedelta64(0),np.timedelta64(1,'D')))).values):\n",
        "     ax.coastlines('10m')\n",
        "     ax.set_title(\"PM2.5 > 25 μm.m-3\" + pd.to_datetime(i).strftime(\"%d %b %H:%S UTC\"), fontsize=12)\n",
        "# Save your figure\n",
        "plt.savefig(\"CAMS-PM2_5-fc-multi-Italy-25.png\")"
      ],
      "cell_type": "code",
      "execution_count": null,
      "outputs": [

      ],
      "metadata": {
        "attributes": {
          "classes": [
            ""
          ],
          "id": ""
        }
      }
    },
    {
      "id": "cell-32",
      "source": "<p><img src=\"../../images/CAMS-PM2_5-fc-multi-Italy-25.png\" alt=\"Multi-plot of PM2.5 over Italy with threshold at 25. \" width=\"1584\" height=\"1296\" loading=\"lazy\" /></p>\n<h2 id=\"reduction-operations\">Reduction operations</h2>\n<p>We often want to compute the mean of all our datasets, or along a dimension (for instance time). If you do not pass any argument to the operation then it is done over all dimensions.</p>\n<h3 id=\"details-on-the-mean-method\">Details on the <strong>mean</strong> method</h3>\n<p>When we do not specify any parameters, we get a single value.</p>\n",
      "cell_type": "markdown",
      "metadata": {
        "editable": false,
        "collapsed": false
      }
    },
    {
      "id": "cell-33",
      "source": [
        "print(dset.sel(latitude=slice(43., 40.), longitude=slice(11.,15.)).mean())"
      ],
      "cell_type": "code",
      "execution_count": null,
      "outputs": [

      ],
      "metadata": {
        "attributes": {
          "classes": [
            ""
          ],
          "id": ""
        }
      }
    },
    {
      "id": "cell-34",
      "source": "<blockquote class=\"code-out\" style=\"border: 2px solid #fb99d0; margin: 1em 0.2em\">\n<div class=\"box-title code-out-title\" id=\"code-out-3\"><i class=\"fas fa-laptop-code\" aria-hidden=\"true\" ></i> Output</div>\n<div class=\"language-plaintext highlighter-rouge\"><div><pre style=\"color: inherit; background: transparent\"><code style=\"color: inherit\">&lt;xarray.Dataset&gt;\nDimensions:     ()\n Data variables:\n    pm2p5_conc  float32 9.118\n</code></pre></div>  </div>\n</blockquote>\n<blockquote class=\"question\" style=\"border: 2px solid #8A9AD0; margin: 1em 0.2em\">\n<div class=\"box-title question-title\" id=\"question-maximum-pm2-5-over-italy\"><i class=\"far fa-question-circle\" aria-hidden=\"true\" ></i> Question: Maximum PM2.5 over Italy</div>\n<p>What is the maximum forecasted PM2.5 value over the Rome-Naples region?</p>\n<br/><details style=\"border: 2px solid #B8C3EA; margin: 1em 0.2em;padding: 0.5em; cursor: pointer;\"><summary>👁 View solution</summary>\n<div class=\"box-title solution-title\" id=\"solution-3\"><button class=\"gtn-boxify-button solution\" type=\"button\" aria-controls=\"solution-3\" aria-expanded=\"true\"><i class=\"far fa-eye\" aria-hidden=\"true\" ></i> Solution<span class=\"fold-unfold fa fa-minus-square\"></span></button></div>\n<p>We  select the same sub-area: 11. East to 15.0 East and 40. N to 43. N and compute the maximum with <code style=\"color: inherit\">max</code>. The maximum PM2.5 value is <strong>59.13694382</strong> μm.m-3 (that is rounded to <strong>59.14</strong>).</p>\n<blockquote class=\"code-in\" style=\"border: 2px solid #86D486; margin: 1em 0.2em\">\n<div class=\"box-title code-in-title\" id=\"code-in-python-3\"><i class=\"far fa-keyboard\" aria-hidden=\"true\" ></i> Input: Python</div>\n<div class=\"language-plaintext highlighter-rouge\"><div><pre style=\"color: inherit; background: transparent\"><code style=\"color: inherit\">dset.sel(latitude=slice(43., 40.), longitude=slice(11.,15.)).max()\n</code></pre></div>      </div>\n</details>\n<blockquote class=\"code-out\" style=\"border: 2px solid #fb99d0; margin: 1em 0.2em\">\n<div class=\"box-title code-out-title\" id=\"code-out-4\"><i class=\"fas fa-laptop-code\" aria-hidden=\"true\" ></i> Output</div>\n<div class=\"language-plaintext highlighter-rouge\"><div><pre style=\"color: inherit; background: transparent\"><code style=\"color: inherit\">xarray.Dataset\nDimensions:\nCoordinates: (0)\nData variables:\npm2p5_conc\n()\nfloat64\n59.14\narray(59.13694382)\nAttributes: (0)\n</code></pre></div>      </div>\n</blockquote>\n</blockquote>\n</blockquote>\n<blockquote class=\"question\" style=\"border: 2px solid #8A9AD0; margin: 1em 0.2em\">\n<div class=\"box-title question-title\" id=\"question-find-when-the-maximum-pm2-5-is-forecasted\"><i class=\"far fa-question-circle\" aria-hidden=\"true\" ></i> Question: Find when the maximum PM2.5 is forecasted</div>\n<p>When is the maximum PM2.5 value forecasted?</p>\n<br/><details style=\"border: 2px solid #B8C3EA; margin: 1em 0.2em;padding: 0.5em; cursor: pointer;\"><summary>👁 View solution</summary>\n<div class=\"box-title solution-title\" id=\"solution-4\"><button class=\"gtn-boxify-button solution\" type=\"button\" aria-controls=\"solution-4\" aria-expanded=\"true\"><i class=\"far fa-eye\" aria-hidden=\"true\" ></i> Solution<span class=\"fold-unfold fa fa-minus-square\"></span></button></div>\n<p>We will select a sub-area: 11. East to 15.0 East and 40. N to 43. N and average over the entire selected area and search where the maximum PM2.5 value of 59.13694382 μm.m-3 is found. The maximum PM2.5 value occurs on 2021-12-22 at 20:00 UTC.</p>\n<blockquote class=\"code-in\" style=\"border: 2px solid #86D486; margin: 1em 0.2em\">\n<div class=\"box-title code-in-title\" id=\"code-in-python-4\"><i class=\"far fa-keyboard\" aria-hidden=\"true\" ></i> Input: Python</div>\n<div class=\"language-plaintext highlighter-rouge\"><div><pre style=\"color: inherit; background: transparent\"><code style=\"color: inherit\">dset_tmean = dset.sel(latitude=slice(43., 40.), longitude=slice(11.,15.)).max(dim=('latitude', 'longitude'))\ndset_tmean_max = dset_tmean.where(dset_tmean['pm2p5_conc'] == 59.13694382, drop=True)\nprint(dset_tmean_max)\n</code></pre></div>      </div>\n</blockquote>\n<blockquote class=\"code-out\" style=\"border: 2px solid #fb99d0; margin: 1em 0.2em\">\n<div class=\"box-title code-out-title\" id=\"code-out-5\"><i class=\"fas fa-laptop-code\" aria-hidden=\"true\" ></i> Output</div>\n<div class=\"language-plaintext highlighter-rouge\"><div><pre style=\"color: inherit; background: transparent\"><code style=\"color: inherit\">&lt;xarray.Dataset&gt;\nDimensions:     (time: 1, level: 1)\nCoordinates:\n  * level       (level) float32 0.0\n  * time        (time) timedelta64[ns] 20:00:00\nData variables:\n    pm2p5_conc  (time, level) float32 59.14\n</code></pre></div>      </div>\n</blockquote>\n</blockquote>\n</blockquote>\n<blockquote class=\"comment\" style=\"border: 2px solid #ffecc1; margin: 1em 0.2em\">\n<div class=\"box-title comment-title\" id=\"comment-pixel-size-when-averaging\"><i class=\"far fa-comment-dots\" aria-hidden=\"true\" ></i> Comment: Pixel size when averaging</div>\n<p>We average over a relatively small area so we do not make a weighted average. Use weighted averages when averaging over the entire globe or over a large area where the pixel sizes may vary (depending on the latitude).</p>\n</blockquote>\n<h2 id=\"details-on-the-resample-method\">Details on the <strong>resample</strong> method</h2>\n<h3 id=\"1-day-resampling\">1 day Resampling</h3>\n<p>The resampling frequency is lower than our original data, so we would need to apply a global operation on the data we group together such as mean, min, max:</p>\n",
      "cell_type": "markdown",
      "metadata": {
        "editable": false,
        "collapsed": false
      }
    },
    {
      "id": "cell-35",
      "source": [
        "print(dset.resample(time='1D').mean())"
      ],
      "cell_type": "code",
      "execution_count": null,
      "outputs": [

      ],
      "metadata": {
        "attributes": {
          "classes": [
            ""
          ],
          "id": ""
        }
      }
    },
    {
      "id": "cell-36",
      "source": "<blockquote class=\"code-out\" style=\"border: 2px solid #fb99d0; margin: 1em 0.2em\">\n<div class=\"box-title code-out-title\" id=\"code-out-6\"><i class=\"fas fa-laptop-code\" aria-hidden=\"true\" ></i> Output</div>\n<div class=\"language-plaintext highlighter-rouge\"><div><pre style=\"color: inherit; background: transparent\"><code style=\"color: inherit\">&lt;xarray.Dataset&gt;\nDimensions:     (time: 5, longitude: 700, latitude: 400, level: 1)\nCoordinates:\n  * time        (time) timedelta64[ns] 0 days 1 days 2 days 3 days 4 days\n  * longitude   (longitude) float32 -24.95 -24.85 -24.75 ... 44.75 44.85 44.95\n  * latitude    (latitude) float32 69.95 69.85 69.75 69.65 ... 30.25 30.15 30.05\n  * level       (level) float32 0.0\nData variables:\n    pm2p5_conc  (time, level, latitude, longitude) float32 0.4298 ... 7.501\n</code></pre></div>  </div>\n</blockquote>\n<h3 id=\"30-minute-resampling\">30 minute resampling</h3>\n<p>When the resampling frequency is higher than the original data, we need to indicate how to fill the gaps, for instance, interpolate and indicate which interpolation method to apply or select nearest values, etc.:</p>\n",
      "cell_type": "markdown",
      "metadata": {
        "editable": false,
        "collapsed": false
      }
    },
    {
      "id": "cell-37",
      "source": [
        "print(dset.resample(time='30min').interpolate('linear'))"
      ],
      "cell_type": "code",
      "execution_count": null,
      "outputs": [

      ],
      "metadata": {
        "attributes": {
          "classes": [
            ""
          ],
          "id": ""
        }
      }
    },
    {
      "id": "cell-38",
      "source": "<blockquote class=\"comment\" style=\"border: 2px solid #ffecc1; margin: 1em 0.2em\">\n<div class=\"box-title comment-title\" id=\"comment-be-careful-when-sub-sampling\"><i class=\"far fa-comment-dots\" aria-hidden=\"true\" ></i> Comment: Be careful when sub-sampling!</div>\n<p>Increasing the frequency of your data e.g. artificially creating data may not be scientifically relevant. Please use it carefully! Interpolating is not always scientifically relevant and sometimes you may prefer to choose a different method, like taking the nearest value for instance:</p>\n<blockquote class=\"code-in\" style=\"border: 2px solid #86D486; margin: 1em 0.2em\">\n<div class=\"box-title code-in-title\" id=\"code-in-python-5\"><i class=\"far fa-keyboard\" aria-hidden=\"true\" ></i> Input: Python</div>\n<div class=\"language-plaintext highlighter-rouge\"><div><pre style=\"color: inherit; background: transparent\"><code style=\"color: inherit\"> dset.resample(time='30min').nearest()\n</code></pre></div>    </div>\n</blockquote>\n</blockquote>\n<blockquote class=\"question\" style=\"border: 2px solid #8A9AD0; margin: 1em 0.2em\">\n<div class=\"box-title question-title\" id=\"question-pm2-5-over-italy-in-the-next-4-days\"><i class=\"far fa-question-circle\" aria-hidden=\"true\" ></i> Question: PM2.5 over Italy in the next 4 days</div>\n<p>Using a Multi-plot between Rome and Naples, and making averages per day, can you tell us if forecasted PM2.5 will increase or decrease?</p>\n<br/><details style=\"border: 2px solid #B8C3EA; margin: 1em 0.2em;padding: 0.5em; cursor: pointer;\"><summary>👁 View solution</summary>\n<div class=\"box-title solution-title\" id=\"solution-5\"><button class=\"gtn-boxify-button solution\" type=\"button\" aria-controls=\"solution-5\" aria-expanded=\"true\"><i class=\"far fa-eye\" aria-hidden=\"true\" ></i> Solution<span class=\"fold-unfold fa fa-minus-square\"></span></button></div>\n<p>PM2.5 over Italy is overall decreasing over the next 4 forecasted days.</p>\n<blockquote class=\"code-in\" style=\"border: 2px solid #86D486; margin: 1em 0.2em\">\n<div class=\"box-title code-in-title\" id=\"code-in-python-6\"><i class=\"far fa-keyboard\" aria-hidden=\"true\" ></i> Input: Python</div>\n<div class=\"language-plaintext highlighter-rouge\"><div><pre style=\"color: inherit; background: transparent\"><code style=\"color: inherit\">fig = plt.figure(1, figsize=[10,10])\n\n# We're using cartopy to project our data.\n# (see documentation on cartopy)\nproj_plot = ccrs.Mercator()\n\nsub_dset = dset.sel(latitude=slice(43., 40.), longitude=slice(11.,15.)).resample(time='1D').mean()\n# We need to project our data to the new projection and for this we use &lt;code&gt;transform&lt;/code&gt;.\n# we set the original data projection in transform (here PlateCarree)\np = sub_dset['pm2p5_conc'].plot(transform=ccrs.PlateCarree(),\n                                vmin = 0, vmax = 35,\n                                subplot_kws={\"projection\": proj_plot},\n                                col='time', col_wrap=5,\n                                robust=True,\n                                aspect=dset.dims[\"longitude\"] / dset.dims[\"latitude\"],  # for a sensible figsize\n                                cmap=cmc.roma_r)\n# We have to set the map's options on all axes\nfor ax,i in zip(p.axes.flat,  (np.datetime64('2021-12-22') + dset.time.sel(time=slice(np.timedelta64(0),np.timedelta64(1,'D')))).values):\n    ax.coastlines('10m')\n    ax.set_title(\"CAMS PM2.5 \" + pd.to_datetime(i).strftime(\"%d %b %H:%S UTC\"), fontsize=12)\n# Save your figure\nplt.savefig(\"CAMS-PM2_5-fc-multi-Italy-mean-per-day.png\")\n</code></pre></div>      </div>\n</details>\n<p><img src=\"../../images/CAMS-PM2_5-fc-multi-Italy-mean-per-day.png\" alt=\"Daily mean for PM2.5 over Italy. \" width=\"1962\" height=\"216\" loading=\"lazy\" /></p>\n</blockquote>\n</blockquote>\n<blockquote class=\"comment\" style=\"border: 2px solid #ffecc1; margin: 1em 0.2em\">\n<div class=\"box-title comment-title\" id=\"comment-code-style-quot-color-inherit-quot-grouby-code-versus-code-style-quot-color-inherit-quot-resample-code\"><i class=\"far fa-comment-dots\" aria-hidden=\"true\" ></i> Comment: <code style=&quot;color: inherit&quot;>Grouby</code> versus <code style=&quot;color: inherit&quot;>resample</code></div>\n<p>Use <code style=\"color: inherit\">groupby</code> instead of <code style=\"color: inherit\">resample</code> when you wish to group over a dimension that is not <code style=\"color: inherit\">time</code>. <code style=\"color: inherit\">groupby</code> is very similar to resample but can be applied to any coordinates and not only to time.</p>\n</blockquote>\n<h1 id=\"conclusion\">Conclusion</h1>\n<p>Well done! <a href=\"https://pangeo.io/\">Pangeo</a> is a fantastic community with many more resources for learning and/or contributing! Please, if you use any Python packages from the Pangeo ecosystem, do not forget to cite Pangeo {% cite Abernathey2017 %}, {% cite Abernathey2021 %}, {% cite Gentemann2021 %} and {% cite Sambasivan2021 %}!</p>\n<p>Have a look at the <a href=\"https://gallery.pangeo.io/repos/pangeo-data/pangeo-tutorial-gallery/\">Pangeo Tutorial Gallery</a> to pick up your next Pangeo training material!</p>\n",
      "cell_type": "markdown",
      "metadata": {
        "editable": false,
        "collapsed": false
      }
    },
    {
      "cell_type": "markdown",
      "id": "final-ending-cell",
      "metadata": {
        "editable": false,
        "collapsed": false
      },
      "source": [
        "# Key Points\n\n",
        "- Pangeo ecosystem enables big data analysis in geosciences\n",
        "- Xarray is an important Python package for big data analysis in geosciences\n",
        "- Xarray can be used to read, select, mask and plot netCDF data\n",
        "- Xarray can also be used to perform global operations such as mean, max, min or resampling data\n",
        "\n# Congratulations on successfully completing this tutorial!\n\n",
        "Please [fill out the feedback on the GTN website](https://training.galaxyproject.org/training-material/topics/climate/tutorials/pangeo-notebook/tutorial.html#feedback) and check there for further resources!\n"
      ]
    }
  ]
}